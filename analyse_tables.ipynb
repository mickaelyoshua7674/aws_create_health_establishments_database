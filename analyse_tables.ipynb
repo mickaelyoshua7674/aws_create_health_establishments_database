{
    "cells": [
     {
      "cell_type": "code",
      "execution_count": 1,
      "metadata": {},
      "outputs": [],
      "source": [
       "import findspark\n",
       "findspark.init()\n",
       "import pyspark\n",
       "from pyspark.sql import SparkSession\n",
       "from pyspark.sql.types import StructType, StructField, StringType, FloatType\n",
       "from pyspark.sql.functions import col, isnan, when, count\n",
       "from sqlalchemy.engine import URL\n",
       "from sqlalchemy import create_engine, text\n",
       "import boto3\n",
       "import ast"
      ]
     },
     {
      "cell_type": "code",
      "execution_count": 2,
      "metadata": {},
      "outputs": [],
      "source": [
       "SECRET_NAME = \"database_tcepb\"\n",
       "REGION_NAME = \"sa-east-1\"\n",
       "\n",
       "# Create a Secrets Manager client\n",
       "session = boto3.session.Session()\n",
       "client = session.client(\n",
       "    service_name = \"secretsmanager\",\n",
       "    region_name = REGION_NAME\n",
       ")\n",
       "\n",
       "get_secret_value_response = client.get_secret_value(\n",
       "    SecretId = SECRET_NAME\n",
       ")\n",
       "SERVER_TRIBUNAL = ast.literal_eval(get_secret_value_response[\"SecretString\"])[\"host\"] + \", \" + ast.literal_eval(get_secret_value_response[\"SecretString\"])[\"port\"]\n",
       "DB_TRIBUNAL = ast.literal_eval(get_secret_value_response[\"SecretString\"])[\"dbname\"]\n",
       "USERNAME = ast.literal_eval(get_secret_value_response[\"SecretString\"])[\"username\"]\n",
       "PASSWORD = ast.literal_eval(get_secret_value_response[\"SecretString\"])[\"password\"]\n",
       "\n",
       "string_connection = \"DRIVER={SQL Server};\" + f\"SERVER={SERVER_TRIBUNAL};DATABASE={DB_TRIBUNAL};UID={USERNAME};PWD={PASSWORD}\"\n",
       "url = URL.create(\"mssql+pyodbc\", query={\"odbc_connect\": string_connection})\n",
       "engine = create_engine(url) # connection engine"
      ]
     },
     {
      "cell_type": "code",
      "execution_count": 3,
      "metadata": {},
      "outputs": [],
      "source": [
       "spark = SparkSession.builder \\\n",
       "    .appName(\"analysing_tables\") \\\n",
       "    .config(\"spark.executor.cores\", \"4\") \\\n",
       "    .config(\"spark.executor.memory\", \"8G\") \\\n",
       "    .config(\"spark.driver.memory\", \"45G\") \\\n",
       "    .master(\"local[*]\") \\\n",
       "    .getOrCreate() # spark.executor.memory -> ram memory"
      ]
     },
     {
      "cell_type": "code",
      "execution_count": 4,
      "metadata": {},
      "outputs": [],
      "source": [
       "def read_and_analyse_df(path: str, delimiter: str) -> pyspark.sql.dataframe.DataFrame:\n",
       "    \"\"\"Read csv file from path, print Schema, shape and count of Null values per column\"\"\"\n",
       "    df = spark.read.format(\"csv\").options(header=\"True\", delimiter=delimiter, inferSchema=\"True\").load(path).na.drop(\"all\")\n",
       "                                                                                                            # dropping rows with all values null\n",
       "    \n",
       "    df_null_count = df.select([count(when(isnan(c) | col(c).isNull(), c)).alias(c) for c in df.columns])\n",
       "                            # count when column is NaN or Null\n",
       "    null_count = df_null_count.collect()[0].asDict()\n",
       "    columns_to_drop = [c for c, n in null_count.items() if n >= df.count()] # list of all columns with count of null values equal to the number of rows\n",
       "    df = df.drop(*columns_to_drop) # drop all of those columns\n",
       "                # starred expression (*variable) will pass the list as arguments\n",
       "\n",
       "    print(\"Schema:\")\n",
       "    df.printSchema()\n",
       "    print(f\"Rows: {df.count()}\\nColumns: {len(df.columns)}\\n\")\n",
       "    print(\"Null values per column:\")\n",
       "    df_null_count.show()\n",
       "    \n",
       "    return df"
      ]
     },
     {
      "attachments": {},
      "cell_type": "markdown",
      "metadata": {},
      "source": [
       "## Estabelecimento"
      ]
     },
     {
      "cell_type": "code",
      "execution_count": 15,
      "metadata": {},
      "outputs": [
       {
        "name": "stdout",
        "output_type": "stream",
        "text": [
         "Schema:\n",
         "root\n",
         " |-- CO_UNIDADE: string (nullable = true)\n",
         " |-- CO_CNES: integer (nullable = true)\n",
         " |-- NU_CNPJ_MANTENEDORA: long (nullable = true)\n",
         " |-- TP_PFPJ: integer (nullable = true)\n",
         " |-- NIVEL_DEP: integer (nullable = true)\n",
         " |-- NO_RAZAO_SOCIAL: string (nullable = true)\n",
         " |-- NO_FANTASIA: string (nullable = true)\n",
         " |-- NO_LOGRADOURO: string (nullable = true)\n",
         " |-- NU_ENDERECO: string (nullable = true)\n",
         " |-- NO_COMPLEMENTO: string (nullable = true)\n",
         " |-- NO_BAIRRO: string (nullable = true)\n",
         " |-- CO_CEP: integer (nullable = true)\n",
         " |-- CO_REGIAO_SAUDE: string (nullable = true)\n",
         " |-- CO_MICRO_REGIAO: string (nullable = true)\n",
         " |-- CO_DISTRITO_SANITARIO: string (nullable = true)\n",
         " |-- CO_DISTRITO_ADMINISTRATIVO: string (nullable = true)\n",
         " |-- NU_TELEFONE: string (nullable = true)\n",
         " |-- NU_FAX: string (nullable = true)\n",
         " |-- NO_EMAIL: string (nullable = true)\n",
         " |-- NU_CPF: long (nullable = true)\n",
         " |-- NU_CNPJ: long (nullable = true)\n",
         " |-- CO_ATIVIDADE: integer (nullable = true)\n",
         " |-- CO_CLIENTELA: long (nullable = true)\n",
         " |-- NU_ALVARA: string (nullable = true)\n",
         " |-- DT_EXPEDICAO: string (nullable = true)\n",
         " |-- TP_ORGAO_EXPEDIDOR: double (nullable = true)\n",
         " |-- DT_VAL_LIC_SANI: string (nullable = true)\n",
         " |-- TP_LIC_SANI: integer (nullable = true)\n",
         " |-- TP_UNIDADE: integer (nullable = true)\n",
         " |-- CO_TURNO_ATENDIMENTO: integer (nullable = true)\n",
         " |-- CO_ESTADO_GESTOR: integer (nullable = true)\n",
         " |-- CO_MUNICIPIO_GESTOR: string (nullable = true)\n",
         " |-- TO_CHAR(DT_ATUALIZACAO,'DD/MM/YYYY'): string (nullable = true)\n",
         " |-- CO_USUARIO: string (nullable = true)\n",
         " |-- CO_CPFDIRETORCLN: long (nullable = true)\n",
         " |-- REG_DIRETORCLN: string (nullable = true)\n",
         " |-- ST_ADESAO_FILANTROP: string (nullable = true)\n",
         " |-- CO_MOTIVO_DESAB: integer (nullable = true)\n",
         " |-- NO_URL: string (nullable = true)\n",
         " |-- NU_LATITUDE: string (nullable = true)\n",
         " |-- NU_LONGITUDE: string (nullable = true)\n",
         " |-- TO_CHAR(DT_ATU_GEO,'DD/MM/YYYY'): string (nullable = true)\n",
         " |-- NO_USUARIO_GEO: string (nullable = true)\n",
         " |-- CO_NATUREZA_JUR: string (nullable = true)\n",
         " |-- TP_ESTAB_SEMPRE_ABERTO: string (nullable = true)\n",
         " |-- ST_GERACREDITO_GERENTE_SGIF: string (nullable = true)\n",
         " |-- ST_CONEXAO_INTERNET: string (nullable = true)\n",
         " |-- NO_FANTASIA_ABREV: string (nullable = true)\n",
         " |-- TP_GESTAO: string (nullable = true)\n",
         " |-- TO_CHAR(DT_ATUALIZACAO_ORIGEM,'DD/MM/YYYY'): string (nullable = true)\n",
         " |-- CO_TIPO_ESTABELECIMENTO: integer (nullable = true)\n",
         " |-- CO_ATIVIDADE_PRINCIPAL: integer (nullable = true)\n",
         " |-- ST_CONTRATO_FORMALIZADO: string (nullable = true)\n",
         "\n",
         "Rows: 452740\n",
         "Columns: 53\n",
         "\n",
         "Null values per column:\n",
         "+----------+-------+-------------------+-------+---------+---------------+-----------+-------------+-----------+--------------+---------+------+---------------+---------------+---------------------+--------------------------+-----------+------+--------+------+-------+------------+------------+---------+------------+------------------+---------------+-----------+----------+--------------------+----------------+-------------------+------------------------------------+----------+----------------+--------------+-------------------+---------------+------+-----------+------------+--------------------------------+--------------+---------------+----------------------+---------------------------+-------------------+---------------+-----------------+---------+-------------------------------------------+-----------------------+----------------------+-----------------------+\n",
         "|CO_UNIDADE|CO_CNES|NU_CNPJ_MANTENEDORA|TP_PFPJ|NIVEL_DEP|NO_RAZAO_SOCIAL|NO_FANTASIA|NO_LOGRADOURO|NU_ENDERECO|NO_COMPLEMENTO|NO_BAIRRO|CO_CEP|CO_REGIAO_SAUDE|CO_MICRO_REGIAO|CO_DISTRITO_SANITARIO|CO_DISTRITO_ADMINISTRATIVO|NU_TELEFONE|NU_FAX|NO_EMAIL|NU_CPF|NU_CNPJ|CO_ATIVIDADE|CO_CLIENTELA|NU_ALVARA|DT_EXPEDICAO|TP_ORGAO_EXPEDIDOR|DT_VAL_LIC_SANI|TP_LIC_SANI|TP_UNIDADE|CO_TURNO_ATENDIMENTO|CO_ESTADO_GESTOR|CO_MUNICIPIO_GESTOR|TO_CHAR(DT_ATUALIZACAO,'DD/MM/YYYY')|CO_USUARIO|CO_CPFDIRETORCLN|REG_DIRETORCLN|ST_ADESAO_FILANTROP|CO_MOTIVO_DESAB|NO_URL|NU_LATITUDE|NU_LONGITUDE|TO_CHAR(DT_ATU_GEO,'DD/MM/YYYY')|NO_USUARIO_GEO|CO_NATUREZA_JUR|TP_ESTAB_SEMPRE_ABERTO|ST_GERACREDITO_GERENTE_SGIF|ST_CONEXAO_INTERNET|CO_TIPO_UNIDADE|NO_FANTASIA_ABREV|TP_GESTAO|TO_CHAR(DT_ATUALIZACAO_ORIGEM,'DD/MM/YYYY')|CO_TIPO_ESTABELECIMENTO|CO_ATIVIDADE_PRINCIPAL|ST_CONTRATO_FORMALIZADO|\n",
         "+----------+-------+-------------------+-------+---------+---------------+-----------+-------------+-----------+--------------+---------+------+---------------+---------------+---------------------+--------------------------+-----------+------+--------+------+-------+------------+------------+---------+------------+------------------+---------------+-----------+----------+--------------------+----------------+-------------------+------------------------------------+----------+----------------+--------------+-------------------+---------------+------+-----------+------------+--------------------------------+--------------+---------------+----------------------+---------------------------+-------------------+---------------+-----------------+---------+-------------------------------------------+-----------------------+----------------------+-----------------------+\n",
         "|         0|      0|             347033|      0|        0|              3|         42|            0|        293|        246979|        1|     0|         234793|         435748|               412077|                    448129|     100969|371141|  231828|306348| 249312|           0|        6472|   144226|      144939|            139650|         301714|     301355|         0|                1087|               0|                  0|                                   0|         1|           48308|        196618|             450187|         366755|445148|      67167|       67114|                           94755|         95335|              5|                 52319|                     452711|              39077|         452740|           452738|        0|                                          0|                  46191|                 46193|                 318137|\n",
         "+----------+-------+-------------------+-------+---------+---------------+-----------+-------------+-----------+--------------+---------+------+---------------+---------------+---------------------+--------------------------+-----------+------+--------+------+-------+------------+------------+---------+------------+------------------+---------------+-----------+----------+--------------------+----------------+-------------------+------------------------------------+----------+----------------+--------------+-------------------+---------------+------+-----------+------------+--------------------------------+--------------+---------------+----------------------+---------------------------+-------------------+---------------+-----------------+---------+-------------------------------------------+-----------------------+----------------------+-----------------------+\n",
         "\n"
        ]
       }
      ],
      "source": [
       "df_estab_2022_01 = read_and_analyse_df(r\"tables\\2022\\01\\tbEstabelecimento202201.csv\", delimiter=\";\")"
      ]
     },
     {
      "cell_type": "code",
      "execution_count": 16,
      "metadata": {},
      "outputs": [
       {
        "name": "stdout",
        "output_type": "stream",
        "text": [
         "+--------------------+-------+-------------------+-------+---------+--------------------+--------------------+--------------------+-----------+--------------+-----------------+--------+---------------+---------------+---------------------+--------------------------+------------+------------+--------------------+------+--------------+------------+------------+---------+--------------------+------------------+---------------+-----------+----------+--------------------+----------------+-------------------+------------------------------------+------------+----------------+--------------+-------------------+---------------+------+-----------+------------+--------------------------------+--------------+---------------+----------------------+---------------------------+-------------------+-----------------+---------+-------------------------------------------+-----------------------+----------------------+-----------------------+\n",
         "|          CO_UNIDADE|CO_CNES|NU_CNPJ_MANTENEDORA|TP_PFPJ|NIVEL_DEP|     NO_RAZAO_SOCIAL|         NO_FANTASIA|       NO_LOGRADOURO|NU_ENDERECO|NO_COMPLEMENTO|        NO_BAIRRO|  CO_CEP|CO_REGIAO_SAUDE|CO_MICRO_REGIAO|CO_DISTRITO_SANITARIO|CO_DISTRITO_ADMINISTRATIVO| NU_TELEFONE|      NU_FAX|            NO_EMAIL|NU_CPF|       NU_CNPJ|CO_ATIVIDADE|CO_CLIENTELA|NU_ALVARA|        DT_EXPEDICAO|TP_ORGAO_EXPEDIDOR|DT_VAL_LIC_SANI|TP_LIC_SANI|TP_UNIDADE|CO_TURNO_ATENDIMENTO|CO_ESTADO_GESTOR|CO_MUNICIPIO_GESTOR|TO_CHAR(DT_ATUALIZACAO,'DD/MM/YYYY')|  CO_USUARIO|CO_CPFDIRETORCLN|REG_DIRETORCLN|ST_ADESAO_FILANTROP|CO_MOTIVO_DESAB|NO_URL|NU_LATITUDE|NU_LONGITUDE|TO_CHAR(DT_ATU_GEO,'DD/MM/YYYY')|NO_USUARIO_GEO|CO_NATUREZA_JUR|TP_ESTAB_SEMPRE_ABERTO|ST_GERACREDITO_GERENTE_SGIF|ST_CONEXAO_INTERNET|NO_FANTASIA_ABREV|TP_GESTAO|TO_CHAR(DT_ATUALIZACAO_ORIGEM,'DD/MM/YYYY')|CO_TIPO_ESTABELECIMENTO|CO_ATIVIDADE_PRINCIPAL|ST_CONTRATO_FORMALIZADO|\n",
         "+--------------------+-------+-------------------+-------+---------+--------------------+--------------------+--------------------+-----------+--------------+-----------------+--------+---------------+---------------+---------------------+--------------------------+------------+------------+--------------------+------+--------------+------------+------------+---------+--------------------+------------------+---------------+-----------+----------+--------------------+----------------+-------------------+------------------------------------+------------+----------------+--------------+-------------------+---------------+------+-----------+------------+--------------------------------+--------------+---------------+----------------------+---------------------------+-------------------+-----------------+---------+-------------------------------------------+-----------------------+----------------------+-----------------------+\n",
         "|MG000031249000000...|2195291|     17947656000119|      3|        3|PREFEITURA MUNICI...|PSF JOAO DA CRUZ ...|RUA MAESTRO ABIGA...|        S/N|          null|           CENTRO|36855000|             18|           null|                 null|                      null|(32)37241133|(32)37241231|                null|  null|          null|           4|           1|     null|                null|              null|           null|       null|         2|                   3|              31|             312490|                          02/09/2002|   rosangela|            null|          null|               null|              8|  null|       null|        null|                            null|          null|           1000|                  null|                       null|               null|             null|        M|                                 07/10/2002|                   null|                  null|                   null|\n",
         "|RO000000000000000...|2497492|      5893631000109|      3|        3|PREFEITURA MUNICI...|HEMONUCLEO DE GUA...| AV MARECHAL DEODORO|        S/N|          null|           CENTRO|78957000|           null|           null|                 null|                      null| (69)5412661|        null|                null|  null|          null|           4|           2|     null|                null|              null|           null|       null|        39|                   6|              11|             110010|                          26/01/2002|        caio|            null|          null|               null|              8|  null|       null|        null|                            null|          null|           1000|                  null|                       null|               null|             null|        M|                                 30/01/2002|                   null|                  null|                   null|\n",
         "|RO000000000000000...|2497573|      4632212000142|      3|        3|PREFEITURA MUNICI...|POSTO DE SAUDE CR...|           LINHA 132|        S/N|          null|       ZONA RURAL|78968000|           null|           null|                 null|                      null|        null|        null|                null|  null|          null|           4|           1|     null|                null|              null|           null|       null|         1|                   3|              11|             110025|                          29/12/2001|        caio|            null|          null|               null|              8|  null|       null|        null|                            null|          null|           1000|                  null|                       null|               null|             null|        M|                                 30/01/2002|                   null|                  null|                   null|\n",
         "|RO000000000000000...|2497603|      4632212000142|      3|        3|PREFEITURA MUNICI...|POSTO DE SAUDE SA...|           LINHA 110|        S/N|          null|       ZONA RURAL|78968000|           null|           null|                 null|                      null|        null|        null|                null|  null|          null|           4|           1|     null|                null|              null|           null|       null|         1|                   3|              11|             110025|                          29/12/2001|        caio|            null|          null|               null|              8|  null|       null|        null|                            null|          null|           1000|                  null|                       null|               null|             null|        M|                                 30/01/2002|                   null|                  null|                   null|\n",
         "|       2311302565374|2565374|     23444748000189|      3|        3|PREFEITURA MUNICI...|POSTO DE SAUDE FR...|RUA EMIPIDIO CORR...|       1163|    ZONA RURAL|     DOM MAURICIO|63900000|           0008|           null|                 null|                      null|  (84)122183|        null|                null|  null|          null|           4|           1|181/20001|30-abr-2001 00:00:00|               2.0|           null|       null|         1|                   3|              23|             231130|                          08/12/2001|      selene|            null|          null|               null|              8|  null|       null|        null|                            null|          null|           1000|                  null|                       null|               null|             null|        M|                                 08/05/2002|                   null|                  null|                   null|\n",
         "|CE000000000000000...|2499312|      7655277000100|      3|        3|ASSOCIACAO DE PRO...|HOSPITAL E MATERN...|RUA PRAC DO CENTE...|        S/N|          null|           CENTRO|63250000|           0019|           null|                 null|                      null|(88)553 1161|        null|                null|  null|          null|           4|           1|     null|                null|              null|           null|       null|         5|                   6|              23|             230830|                          17/05/2002|        sesa|            null|          null|               null|              8|  null|       null|        null|                            null|          null|           1000|                  null|                       null|               null|             null|        S|                                 06/02/2002|                   null|                  null|                   null|\n",
         "|RR000000000000000...|2798417|      4056206000194|      3|        3|PREFEITURA MUNICI...|POSTO DE SAUDE MA...|       RUA PRINCIPAL|        S/N|          null|           CENTRO|69350000|           null|           null|                 null|                      null|        null|        null|                null|  null|          null|           4|           1|     null|                null|              null|           null|       null|         1|                   3|              14|             140005|                          31/08/2003|ENEIDE MATOS|            null|          null|               null|              8|  null|       null|        null|                            null|          null|           1000|                  null|                       null|               null|             null|        M|                                 20/09/2003|                   null|                  null|                   null|\n",
         "|       2311302565285|2565285|     23444748000189|      3|        3|PREFEITURA MUNICI...|POSTO DE SAUDE NI...|          LAGOA NOVA|        S/N|    ZONA RURAL|       LAGOA NOVA|63900000|           0008|           null|                 null|                      null|        null|        null|                null|  null|          null|           4|           1| 191/2001|30-abr-2001 00:00:00|               2.0|           null|       null|         1|                   2|              23|             231130|                          08/12/2001|      selene|            null|          null|               null|              8|  null|       null|        null|                            null|          null|           1000|                  null|                       null|               null|             null|        M|                                 08/05/2002|                   null|                  null|                   null|\n",
         "|       2311302565307|2565307|     23444748000189|      3|        3|PREFEITURA MUNICI...|POSTO DE SAUDE DE...|VILA DA LAGOA DA ...|        S/N|     ZON RURAL|   VARZEA DA ONCA|63900000|           0008|           null|                 null|                      null| (88)4121109|        null|                null|  null|          null|           4|           1|    18201|30-abr-2001 00:00:00|               2.0|           null|       null|         1|                   2|              23|             231130|                          08/12/2001|      selene|            null|          null|               null|              8|  null|       null|        null|                            null|          null|           1000|                  null|                       null|               null|             null|        M|                                 08/05/2002|                   null|                  null|                   null|\n",
         "|       2311302565358|2565358|     23444748000189|      3|        3|PREFEITURA MUNICI...|POSTO DE SAUDE JO...|   FAZENDA SAQUINHOS|        S/N|    ZONA RURAL|DANIEL DE QUEIROZ|63900000|           0008|           null|                 null|                      null|        null|        null|                null|  null|          null|           4|           1|   192/01|30-abr-2001 00:00:00|               2.0|           null|       null|         1|                   1|              23|             231130|                          23/04/2002|        sesa|            null|          null|               null|              8|  null|       null|        null|                            null|          null|           1000|                  null|                       null|               null|             null|        M|                                 08/05/2002|                   null|                  null|                   null|\n",
         "|       2311302565420|2565420|     23444748000189|      3|        3|PREFEITURA MUCICI...|POSTO DE SAUDE DE...|     SEDE DO GUARUJA|        S/N|    ZONA RURAL|         TAPUIARA|63900000|             8ª|           null|                 null|                      null|(08)84121109|        null|                null|  null|          null|           4|           1|  0180/01|30-abr-2001 00:00:00|               2.0|           null|       null|         1|                   2|              23|             231130|                          08/12/2001|      selene|            null|          null|               null|              8|  null|       null|        null|                            null|          null|           1000|                  null|                       null|               null|             null|        E|                                 08/05/2002|                   null|                  null|                   null|\n",
         "|MA000021098090000...|2454114|      6226583000150|      3|        3|PREFEITURA DE SAN...|    PS DE MANGABEIRA|  POVOADO MANGABEIRA|        S/N|          null|       MANGABEIRA|65208000|             06|           null|                 null|                      null| (98)3821266| (98)3821259|                null|  null|          null|           4|           1|      016|19-jul-2001 00:00:00|               2.0|           null|       null|         1|                   3|              21|             210980|                          23/08/2001|      junior|            null|          null|               null|              8|  null|       null|        null|                            null|          null|           1000|                  null|                       null|               null|             null|        M|                                 05/11/2003|                   null|                  null|                   null|\n",
         "|       2311302565919|2565919|     23444748000189|      3|        3|PREFEITURA MUNICI...|FUNDACAO DE APOIO...|   RUA BASILIO PINTO|        S/N|   ZONA URBANA|          COMBATE|63900000|           0008|           null|                 null|                      null|        null|        null|                null|  null|          null|           4|           1|  0173/01|30-abr-2001 00:00:00|               2.0|           null|       null|        22|                   4|              23|             231130|                          25/11/2002|        sesa|            null|          null|               null|              8|  null|       null|        null|                            null|          null|           1000|                  null|                       null|               null|             null|        M|                                 08/05/2002|                   null|                  null|                   null|\n",
         "|RR000000000000000...|2566230|      1612681000101|      3|        3|PREFEITURA MUNICI...|POSTO DE SAUDE AG...|       RUA PRINCIPAL|        S/N|          null|           CENTRO|69358000|           null|           null|                 null|                      null|        null|        null|                null|  null|          null|           4|           1|     null|                null|              null|           null|       null|         1|                   3|              14|             140070|                          05/12/2002|eneide matos|            null|          null|               null|              8|  null|       null|        null|                            null|          null|           1000|                  null|                       null|               null|             null|        M|                                 08/05/2002|                   null|                  null|                   null|\n",
         "|RJ000033022000002...|2278820|     28916716000152|      3|        3|SECRETARIA MUNICI...|PROGRAMA DENTINHO...|   R CEL LUIZ FERRAZ|        279|          null|           CENTRO|28300000|           null|           null|                 null|                      null|(22)38242505|        (  )|                null|  null|28916716000748|           4|           3|     null|                null|              null|           null|       null|        22|                   3|              33|             330220|                          08/11/2001|elaine motta|            null|          null|               null|              8|  null|       null|        null|                            null|          null|           1000|                  null|                       null|               null|             null|        M|                                 21/03/2002|                   null|                  null|                   null|\n",
         "|RJ000033004000009...|2279622|     28695658000184|      3|        3|SECRETARIA MUNUCI...|           UBS KM 04|     RUA SAO VICENTE|        S/N|          null|            KM 04|27365130|             10|           null|                 null|                      null|(  )43322919|(24)33227432|    fmsbm@uol.com.br|  null|          null|           4|           1|     null|                null|              null|           null|       null|         2|                   3|              33|             330040|                          21/08/2001|      bebeto|            null|          null|               null|              8|  null|       null|        null|                            null|          null|           1000|                  null|                       null|               null|             null|        M|                                 25/03/2002|                   null|                  null|                   null|\n",
         "|RJ000033004000000...|2279932|     28695658000184|      3|        3|SECRETARIA MUNICI...|CONSULTORIO ODONT...|               RUA L|        S/N|          null|       VILA MARIA|27301970|             10|           null|                 null|                      null|(24)33229192|(24)33227432|    fmsbm@uol.com.br|  null|          null|           4|           1|     null|                null|              null|           null|       null|        22|                   3|              33|             330040|                          07/05/2002|      simone|            null|          null|               null|              8|  null|       null|        null|                            null|          null|           1000|                  null|                       null|               null|             null|        M|                                 25/03/2002|                   null|                  null|                   null|\n",
         "|MA000021098090000...|2454203|      6226583000150|      3|        3|PREFEITURA DE SAN...|   PS DE BOM QUE DOI| POVOADO BOM QUE DOI|        S/N|          null|      BOM QUE DOI|65208000|             06|           null|                 null|                      null| (98)3821266| (98)3821259|                null|  null|          null|           4|           1|      021|19-jul-2001 00:00:00|               2.0|           null|       null|         1|                   3|              21|             210980|                          23/08/2001|      junior|            null|          null|               null|              8|  null|       null|        null|                            null|          null|           1000|                  null|                       null|               null|             null|        M|                                 05/11/2003|                   null|                  null|                   null|\n",
         "|MG000031271000000...|2181339|     18449132000160|      3|        3|PREFEITURA MUNICI...|PROGRAMA SAUDE DA...|    RUA JOAO LACERDA|        330|          null|   VILA ESPERANCA|38200000|           0013|           null|                 null|                      null|(34)34218729|(34)34219114|smph-scaa@knet.co...|  null|          null|           4|           2|     null|                null|              null|           null|       null|         2|                   3|              31|             312710|                          15/10/2002|   mary lane|            null|          null|               null|              8|  null|       null|        null|                            null|          null|           1000|                  null|                       null|               null|             null|        M|                                 22/07/2002|                   null|                  null|                   null|\n",
         "|MA000021098090000...|2454165|      6226583000150|      3|        3|PREFEITURA DE SAN...|      PS DE ARMINDIO|    POVOADO ARMINDIO|        S/N|          null|         ARMINDIO|65208000|             06|           null|                 null|                      null| (98)3821266| (98)3821259|                null|  null|          null|           4|           1|      020|19-jul-2001 00:00:00|               2.0|           null|       null|         1|                   3|              21|             210980|                          23/08/2001|      junior|            null|          null|               null|              8|  null|       null|        null|                            null|          null|           1000|                  null|                       null|               null|             null|        M|                                 05/11/2003|                   null|                  null|                   null|\n",
         "+--------------------+-------+-------------------+-------+---------+--------------------+--------------------+--------------------+-----------+--------------+-----------------+--------+---------------+---------------+---------------------+--------------------------+------------+------------+--------------------+------+--------------+------------+------------+---------+--------------------+------------------+---------------+-----------+----------+--------------------+----------------+-------------------+------------------------------------+------------+----------------+--------------+-------------------+---------------+------+-----------+------------+--------------------------------+--------------+---------------+----------------------+---------------------------+-------------------+-----------------+---------+-------------------------------------------+-----------------------+----------------------+-----------------------+\n",
         "only showing top 20 rows\n",
         "\n"
        ]
       }
      ],
      "source": [
       "df_estab_2022_01.show()"
      ]
     },
     {
      "attachments": {},
      "cell_type": "markdown",
      "metadata": {},
      "source": [
       "### Tipo Estabelecimento"
      ]
     },
     {
      "cell_type": "code",
      "execution_count": 17,
      "metadata": {},
      "outputs": [
       {
        "name": "stdout",
        "output_type": "stream",
        "text": [
         "Schema:\n",
         "root\n",
         " |-- CO_TIPO_ESTABELECIMENTO: integer (nullable = true)\n",
         " |-- DS_TIPO_ESTABELECIMENTO: string (nullable = true)\n",
         "\n",
         "Rows: 26\n",
         "Columns: 2\n",
         "\n",
         "Null values per column:\n",
         "+-----------------------+-----------------------+----------------+\n",
         "|CO_TIPO_ESTABELECIMENTO|DS_TIPO_ESTABELECIMENTO|DS_CONCEITO_TIPO|\n",
         "+-----------------------+-----------------------+----------------+\n",
         "|                      0|                      0|              26|\n",
         "+-----------------------+-----------------------+----------------+\n",
         "\n"
        ]
       }
      ],
      "source": [
       "df_tipo_estab_2022_01 = read_and_analyse_df(r\"tables\\2022\\01\\tbTipoEstabelecimento202201.csv\", delimiter=\";\")"
      ]
     },
     {
      "cell_type": "code",
      "execution_count": 18,
      "metadata": {},
      "outputs": [
       {
        "name": "stdout",
        "output_type": "stream",
        "text": [
         "+-----------------------+-----------------------+\n",
         "|CO_TIPO_ESTABELECIMENTO|DS_TIPO_ESTABELECIMENTO|\n",
         "+-----------------------+-----------------------+\n",
         "|                      0|                 OUTROS|\n",
         "|                      1|   UNIDADE BASICA DE...|\n",
         "|                      2|   CENTRAL DE GESTAO...|\n",
         "|                      3|   CENTRAL DE REGULACAO|\n",
         "|                      4|   CENTRAL DE ABASTE...|\n",
         "|                      5|   CENTRAL DE TRANSP...|\n",
         "|                      6|               HOSPITAL|\n",
         "|                      7|   CENTRO DE ASSISTE...|\n",
         "|                      8|     PRONTO ATENDIMENTO|\n",
         "|                      9|               FARMACIA|\n",
         "|                     10|   UNIDADE DE ATENCA...|\n",
         "|                     11|   NUCLEO DE TELESSAUDE|\n",
         "|                     12|   UNIDADE DE ATENCA...|\n",
         "|                     13|   POLO DE PREVENCAO...|\n",
         "|                     14|   CASAS DE APOIO A ...|\n",
         "|                     15|   UNIDADE DE REABIL...|\n",
         "|                     16|            AMBULATORIO|\n",
         "|                     17|   UNIDADE DE ATENCA...|\n",
         "|                     18|   UNIDADE DE APOIO ...|\n",
         "|                     19|   UNIDADE DE TERAPI...|\n",
         "+-----------------------+-----------------------+\n",
         "only showing top 20 rows\n",
         "\n"
        ]
       }
      ],
      "source": [
       "df_tipo_estab_2022_01.show()"
      ]
     },
     {
      "attachments": {},
      "cell_type": "markdown",
      "metadata": {},
      "source": [
       "### Tipo Unidade"
      ]
     },
     {
      "cell_type": "code",
      "execution_count": 19,
      "metadata": {},
      "outputs": [
       {
        "name": "stdout",
        "output_type": "stream",
        "text": [
         "Schema:\n",
         "root\n",
         " |-- CO_TIPO_UNIDADE: integer (nullable = true)\n",
         " |-- DS_TIPO_UNIDADE: string (nullable = true)\n",
         "\n",
         "Rows: 39\n",
         "Columns: 2\n",
         "\n",
         "Null values per column:\n",
         "+---------------+---------------+\n",
         "|CO_TIPO_UNIDADE|DS_TIPO_UNIDADE|\n",
         "+---------------+---------------+\n",
         "|              0|              0|\n",
         "+---------------+---------------+\n",
         "\n"
        ]
       }
      ],
      "source": [
       "df_tipo_unidade_2022_01 = read_and_analyse_df(r\"tables\\2022\\01\\tbTipoUnidade202201.csv\", delimiter=\";\")"
      ]
     },
     {
      "cell_type": "code",
      "execution_count": 20,
      "metadata": {},
      "outputs": [
       {
        "name": "stdout",
        "output_type": "stream",
        "text": [
         "+---------------+--------------------+\n",
         "|CO_TIPO_UNIDADE|     DS_TIPO_UNIDADE|\n",
         "+---------------+--------------------+\n",
         "|             69|CENTRO DE ATENCAO...|\n",
         "|             70|CENTRO DE ATENCAO...|\n",
         "|             71|CENTRO DE APOIO A...|\n",
         "|             72|UNIDADE DE ATENCA...|\n",
         "|              1|      POSTO DE SAUDE|\n",
         "|              2|CENTRO DE SAUDE/U...|\n",
         "|              4|         POLICLINICA|\n",
         "|             22| CONSULTORIO ISOLADO|\n",
         "|             40|UNIDADE MOVEL TER...|\n",
         "|             42|UNIDADE MOVEL DE ...|\n",
         "|             32|UNIDADE MOVEL FLU...|\n",
         "|             36|CLINICA/CENTRO DE...|\n",
         "|             64|CENTRAL DE REGULA...|\n",
         "|             43|            FARMACIA|\n",
         "|             39|UNIDADE DE APOIO ...|\n",
         "|             61|CENTRO DE PARTO N...|\n",
         "|             62|HOSPITAL/DIA - IS...|\n",
         "|             15|       UNIDADE MISTA|\n",
         "|             20|PRONTO SOCORRO GERAL|\n",
         "|             21|PRONTO SOCORRO ES...|\n",
         "+---------------+--------------------+\n",
         "only showing top 20 rows\n",
         "\n"
        ]
       }
      ],
      "source": [
       "df_tipo_unidade_2022_01.show()"
      ]
     },
     {
      "attachments": {},
      "cell_type": "markdown",
      "metadata": {},
      "source": [
       "### Natureza Jurídica"
      ]
     },
     {
      "cell_type": "code",
      "execution_count": 21,
      "metadata": {},
      "outputs": [
       {
        "name": "stdout",
        "output_type": "stream",
        "text": [
         "Schema:\n",
         "root\n",
         " |-- CO_NATUREZA_JUR: integer (nullable = true)\n",
         " |-- DS_NATUREZA_JUR: string (nullable = true)\n",
         "\n",
         "Rows: 97\n",
         "Columns: 2\n",
         "\n",
         "Null values per column:\n",
         "+---------------+---------------+\n",
         "|CO_NATUREZA_JUR|DS_NATUREZA_JUR|\n",
         "+---------------+---------------+\n",
         "|              0|              0|\n",
         "+---------------+---------------+\n",
         "\n"
        ]
       }
      ],
      "source": [
       "df_natureza_jur = read_and_analyse_df(r\"tables\\2022\\01\\tbNaturezaJuridica202201.csv\", delimiter=\";\")"
      ]
     },
     {
      "cell_type": "code",
      "execution_count": 22,
      "metadata": {},
      "outputs": [
       {
        "name": "stdout",
        "output_type": "stream",
        "text": [
         "+---------------+--------------------+\n",
         "|CO_NATUREZA_JUR|     DS_NATUREZA_JUR|\n",
         "+---------------+--------------------+\n",
         "|           1228|CONSORCIO PUBLICO...|\n",
         "|           1236|ESTADO OU DISTRIT...|\n",
         "|           1244|           MUNICIPIO|\n",
         "|           1252|FUNDACAO PUBLICA ...|\n",
         "|           1260|FUNDACAO PUBLICA ...|\n",
         "|           1279|FUNDACAO PUBLICA ...|\n",
         "|           3280|COMITE FINANCEIRO...|\n",
         "|           3298|FRENTE PLEBISCITA...|\n",
         "|           2305|EMPRESA INDIVIDUA...|\n",
         "|           2313|EMPRESA INDIVIDUA...|\n",
         "|           3301|ORGANIZAÇÃO SOCIA...|\n",
         "|           4120|PRODUTOR RURAL (P...|\n",
         "|           3271|ORGAO DE DIRECAO ...|\n",
         "|           3263|ORGAO DE DIRECAO ...|\n",
         "|           3255|ORGAO DE DIRECAO ...|\n",
         "|           1015|ORGAO PUBLICO DO ...|\n",
         "|           1023|ORGAO PUBLICO DO ...|\n",
         "|           1031|ORGAO PUBLICO DO ...|\n",
         "|           1040|ORGAO PUBLICO DO ...|\n",
         "|           1058|ORGAO PUBLICO DO ...|\n",
         "+---------------+--------------------+\n",
         "only showing top 20 rows\n",
         "\n"
        ]
       }
      ],
      "source": [
       "df_natureza_jur.show()"
      ]
     },
     {
      "attachments": {},
      "cell_type": "markdown",
      "metadata": {},
      "source": [
       "## Leito"
      ]
     },
     {
      "cell_type": "code",
      "execution_count": 23,
      "metadata": {},
      "outputs": [
       {
        "name": "stdout",
        "output_type": "stream",
        "text": [
         "Schema:\n",
         "root\n",
         " |-- CO_UNIDADE: string (nullable = true)\n",
         " |-- CO_LEITO: integer (nullable = true)\n",
         " |-- CO_TIPO_LEITO: double (nullable = true)\n",
         " |-- QT_EXIST: integer (nullable = true)\n",
         " |-- QT_CONTR: integer (nullable = true)\n",
         " |-- QT_SUS: integer (nullable = true)\n",
         " |-- TO_CHAR(DT_ATUALIZACAO,'DD/MM/YYYY'): string (nullable = true)\n",
         " |-- CO_USUARIO: string (nullable = true)\n",
         " |-- TO_CHAR(DT_ATUALIZACAO_ORIGEM,'DD/MM/YYYY'): string (nullable = true)\n",
         "\n",
         "Rows: 59394\n",
         "Columns: 9\n",
         "\n",
         "Null values per column:\n",
         "+----------+--------+-------------+-----------+--------+--------+------+------------------------------------+----------+-------------------------------------------+\n",
         "|CO_UNIDADE|CO_LEITO|CO_TIPO_LEITO|TP_ALTACOMP|QT_EXIST|QT_CONTR|QT_SUS|TO_CHAR(DT_ATUALIZACAO,'DD/MM/YYYY')|CO_USUARIO|TO_CHAR(DT_ATUALIZACAO_ORIGEM,'DD/MM/YYYY')|\n",
         "+----------+--------+-------------+-----------+--------+--------+------+------------------------------------+----------+-------------------------------------------+\n",
         "|         0|       0|            0|      59394|       0|   59319|     0|                                  40|        63|                                          0|\n",
         "+----------+--------+-------------+-----------+--------+--------+------+------------------------------------+----------+-------------------------------------------+\n",
         "\n"
        ]
       }
      ],
      "source": [
       "df_leito_2022_01 = read_and_analyse_df(r\"tables\\2022\\01\\rlEstabComplementar202201.csv\", delimiter=\";\")"
      ]
     },
     {
      "cell_type": "code",
      "execution_count": 24,
      "metadata": {},
      "outputs": [
       {
        "name": "stdout",
        "output_type": "stream",
        "text": [
         "+-------------+--------+-------------+--------+--------+------+------------------------------------+------------+-------------------------------------------+\n",
         "|   CO_UNIDADE|CO_LEITO|CO_TIPO_LEITO|QT_EXIST|QT_CONTR|QT_SUS|TO_CHAR(DT_ATUALIZACAO,'DD/MM/YYYY')|  CO_USUARIO|TO_CHAR(DT_ATUALIZACAO_ORIGEM,'DD/MM/YYYY')|\n",
         "+-------------+--------+-------------+--------+--------+------+------------------------------------+------------+-------------------------------------------+\n",
         "|3107405661943|      11|          1.0|       1|    null|     0|                          15/04/2019|    SAOZINHA|                                 22/07/2012|\n",
         "|3107405661943|      15|          1.0|       1|    null|     0|                          15/04/2019|    SAOZINHA|                                 22/07/2012|\n",
         "|3136703126277|       7|          7.0|       2|    null|     0|                          16/08/2019|     CNESSCC|                                 22/07/2012|\n",
         "|2918409192484|      13|          1.0|       6|    null|     6|                          31/03/2017|   ROSANGELA|                                 03/04/2017|\n",
         "|2403807206933|      33|          2.0|       5|    null|     5|                          18/04/2016|       FLORA|                                 05/04/2013|\n",
         "|5107902795671|       2|          1.0|       1|    null|     0|                          18/01/2022|     MARINES|                                 06/05/2017|\n",
         "|1100202743590|      93|          3.0|       2|    null|     0|                          04/05/2020|   MANUELITO|                                 08/01/2020|\n",
         "|1303402016893|      95|          3.0|       8|    null|     8|                          10/06/2021|   PARINTINS|                                 08/01/2020|\n",
         "|3304555160308|      78|          3.0|      33|    null|     0|                          01/10/2021|DPTO PESSOAL|                                 08/01/2020|\n",
         "|3133502143895|      34|          6.0|      15|    null|    15|                          29/09/2021|     ADRIANA|                                 25/01/2020|\n",
         "|1501402332787|       2|          1.0|       3|    null|     0|                          14/09/2021|     VALENTE|                                 26/01/2020|\n",
         "|5107902795671|      15|          1.0|       4|    null|     0|                          18/01/2022|   FRANCISCA|                                 06/05/2017|\n",
         "|3304559151532|      76|          3.0|      68|    null|     0|                          21/09/2021|     CIDINEY|                                 26/01/2020|\n",
         "|3550307644167|      12|          1.0|       2|    null|     0|                          22/04/2020|      MORIAH|                                 26/01/2020|\n",
         "|3550302080788|       3|          1.0|       8|    null|     8|                          09/09/2021|      HMDRAZ|                                 29/01/2014|\n",
         "|3550302080788|      33|          2.0|      35|    null|    35|                          09/09/2021|      HMDRAZ|                                 29/01/2014|\n",
         "|3550302080788|      45|          5.0|       5|    null|     5|                          09/09/2021|      HMDRAZ|                                 29/01/2014|\n",
         "|5104803269728|      43|          4.0|       2|    null|     2|                          17/01/2022|      MILTON|                                 25/05/2012|\n",
         "|5206202383896|      66|          3.0|       1|    null|     1|                          24/03/2021|     SMSAUDE|                                 25/05/2012|\n",
         "|3554007368704|      78|          3.0|       1|    null|     0|                          01/10/2021|       TATUI|                                 06/05/2017|\n",
         "+-------------+--------+-------------+--------+--------+------+------------------------------------+------------+-------------------------------------------+\n",
         "only showing top 20 rows\n",
         "\n"
        ]
       }
      ],
      "source": [
       "df_leito_2022_01.show()"
      ]
     },
     {
      "attachments": {},
      "cell_type": "markdown",
      "metadata": {},
      "source": [
       "### Tipo Leito"
      ]
     },
     {
      "cell_type": "code",
      "execution_count": 25,
      "metadata": {},
      "outputs": [
       {
        "name": "stdout",
        "output_type": "stream",
        "text": [
         "Schema:\n",
         "root\n",
         " |-- CO_LEITO: integer (nullable = true)\n",
         " |-- DS_LEITO: string (nullable = true)\n",
         " |-- TP_LEITO: integer (nullable = true)\n",
         "\n",
         "Rows: 69\n",
         "Columns: 3\n",
         "\n",
         "Null values per column:\n",
         "+--------+--------+--------+\n",
         "|CO_LEITO|DS_LEITO|TP_LEITO|\n",
         "+--------+--------+--------+\n",
         "|       0|       0|       0|\n",
         "+--------+--------+--------+\n",
         "\n"
        ]
       }
      ],
      "source": [
       "df_tipo_leito_2022_01 = read_and_analyse_df(r\"tables\\2022\\01\\tbLeito202201.csv\", delimiter=\";\")"
      ]
     },
     {
      "cell_type": "code",
      "execution_count": 26,
      "metadata": {},
      "outputs": [
       {
        "name": "stdout",
        "output_type": "stream",
        "text": [
         "+--------+--------------------+--------+\n",
         "|CO_LEITO|            DS_LEITO|TP_LEITO|\n",
         "+--------+--------------------+--------+\n",
         "|       1|  BUCO MAXILO FACIAL|       1|\n",
         "|       2|         CARDIOLOGIA|       1|\n",
         "|       3|      CIRURGIA GERAL|       1|\n",
         "|       4|      ENDOCRINOLOGIA|       1|\n",
         "|       5|   GASTROENTEROLOGIA|       1|\n",
         "|       6|         GINECOLOGIA|       1|\n",
         "|       7|CIRURGICO/DIAGNOS...|       7|\n",
         "|       8|  NEFROLOGIAUROLOGIA|       1|\n",
         "|       9|       NEUROCIRURGIA|       1|\n",
         "|      10|OBSTETRICIA CIRUR...|       4|\n",
         "|      11|        OFTALMOLOGIA|       1|\n",
         "|      12|           ONCOLOGIA|       1|\n",
         "|      13|ORTOPEDIATRAUMATO...|       1|\n",
         "|      14|OTORRINOLARINGOLOGIA|       1|\n",
         "|      15|            PLASTICA|       1|\n",
         "|      16|            TORACICA|       1|\n",
         "|      31|                AIDS|       2|\n",
         "|      32|         CARDIOLOGIA|       2|\n",
         "|      33|       CLINICA GERAL|       2|\n",
         "|      34|            CRONICOS|       6|\n",
         "+--------+--------------------+--------+\n",
         "only showing top 20 rows\n",
         "\n"
        ]
       }
      ],
      "source": [
       "df_tipo_leito_2022_01.show()"
      ]
     },
     {
      "attachments": {},
      "cell_type": "markdown",
      "metadata": {},
      "source": [
       "## Município"
      ]
     },
     {
      "cell_type": "code",
      "execution_count": 27,
      "metadata": {},
      "outputs": [
       {
        "name": "stdout",
        "output_type": "stream",
        "text": [
         "Schema:\n",
         "root\n",
         " |-- CO_MUNICIPIO: integer (nullable = true)\n",
         " |-- NO_MUNICIPIO: string (nullable = true)\n",
         " |-- CO_SIGLA_ESTADO: string (nullable = true)\n",
         " |-- TP_CADASTRO: string (nullable = true)\n",
         " |-- TP_PACTO: string (nullable = true)\n",
         " |-- TP_ENVIA: integer (nullable = true)\n",
         " |-- TP_ENVIA_CNES: string (nullable = true)\n",
         " |-- TP_CIB_SAS: string (nullable = true)\n",
         " |-- TP_PLENO_ORIGEM: string (nullable = true)\n",
         " |-- TP_MAC: string (nullable = true)\n",
         " |-- NU_POPULACAO: integer (nullable = true)\n",
         " |-- NU_DENSIDADE: integer (nullable = true)\n",
         " |-- CMTP_INICIO_MAC: integer (nullable = true)\n",
         "\n",
         "Rows: 5606\n",
         "Columns: 13\n",
         "\n",
         "Null values per column:\n",
         "+------------+------------+---------------+-----------+--------+--------+-------------+----------+---------------+------+------------+------------+---------------+\n",
         "|CO_MUNICIPIO|NO_MUNICIPIO|CO_SIGLA_ESTADO|TP_CADASTRO|TP_PACTO|TP_ENVIA|TP_ENVIA_CNES|TP_CIB_SAS|TP_PLENO_ORIGEM|TP_MAC|NU_POPULACAO|NU_DENSIDADE|CMTP_INICIO_MAC|\n",
         "+------------+------------+---------------+-----------+--------+--------+-------------+----------+---------------+------+------------+------------+---------------+\n",
         "|           0|           0|              0|          0|       1|       0|            0|         1|              2|     0|        5176|         604|              0|\n",
         "+------------+------------+---------------+-----------+--------+--------+-------------+----------+---------------+------+------------+------------+---------------+\n",
         "\n"
        ]
       }
      ],
      "source": [
       "df_municipio_2022_01 = read_and_analyse_df(r\"tables\\2022\\01\\tbMunicipio202201.csv\", delimiter=\";\")"
      ]
     },
     {
      "cell_type": "code",
      "execution_count": 28,
      "metadata": {},
      "outputs": [
       {
        "name": "stdout",
        "output_type": "stream",
        "text": [
         "+------------+--------------------+---------------+-----------+--------+--------+-------------+----------+---------------+------+------------+------------+---------------+\n",
         "|CO_MUNICIPIO|        NO_MUNICIPIO|CO_SIGLA_ESTADO|TP_CADASTRO|TP_PACTO|TP_ENVIA|TP_ENVIA_CNES|TP_CIB_SAS|TP_PLENO_ORIGEM|TP_MAC|NU_POPULACAO|NU_DENSIDADE|CMTP_INICIO_MAC|\n",
         "+------------+--------------------+---------------+-----------+--------+--------+-------------+----------+---------------+------+------------+------------+---------------+\n",
         "|      354105|            PRATANIA|             SP|          S|       S|       1|            S|         S|              N|     S|        null|           1|          32018|\n",
         "|      354130| PRESIDENTE EPITACIO|             SP|          S|       S|       1|            S|         S|              N|     S|        null|        null|          32018|\n",
         "|      354140| PRESIDENTE PRUDENTE|             SP|          S|       S|       1|            S|         S|              N|     S|        null|           1|          32018|\n",
         "|      354150|PRESIDENTE VENCESLAU|             SP|          S|       S|       1|            S|         S|              S|     S|        null|           1|          32018|\n",
         "|      354170|               QUATA|             SP|          S|       S|       1|            S|         S|              N|     S|        null|           1|          32018|\n",
         "|      354180|             QUEIROZ|             SP|          S|       S|       1|            S|         S|              N|     S|        null|           1|          32018|\n",
         "|      354210|              RAFARD|             SP|          S|       S|       1|            S|         S|              N|     S|        null|           1|          32018|\n",
         "|      354220|           RANCHARIA|             SP|          S|       S|       1|            S|         S|              N|     S|        null|        null|          32018|\n",
         "|      354230|   REDENCAO DA SERRA|             SP|          S|       S|       1|            S|         S|              N|     S|        null|           1|          32018|\n",
         "|      354260|            REGISTRO|             SP|          S|       S|       1|            S|         S|              N|     S|        null|           1|          32018|\n",
         "|      354290|     RIBEIRAO BONITO|             SP|          S|       S|       1|            S|         S|              N|     S|        null|           1|          32018|\n",
         "|      354310|   RIBEIRAO CORRENTE|             SP|          S|       S|       1|            S|         S|              N|     S|        null|           1|          32018|\n",
         "|      354350|            RIVERSUL|             SP|          S|       S|       1|            S|         S|              N|     S|        null|           1|          32018|\n",
         "|      354380|           RINOPOLIS|             SP|          S|       S|       1|            S|         S|              N|     S|        null|           1|          32018|\n",
         "|      354410| RIO GRANDE DA SERRA|             SP|          S|       S|       1|            S|         S|              N|     S|        null|           1|          32018|\n",
         "|      354420|           RIOLANDIA|             SP|          S|       S|       1|            S|         S|              N|     S|        null|           1|          32018|\n",
         "|      354425|              ROSANA|             SP|          S|       S|       1|            S|         S|              N|     S|        null|           1|          32018|\n",
         "|      354430|             ROSEIRA|             SP|          S|       S|       1|            S|         S|              N|     S|        null|           1|          32018|\n",
         "|      354460|              SABINO|             SP|          S|       S|       1|            S|         S|              N|     S|        null|           1|          32018|\n",
         "|      354470|              SAGRES|             SP|          S|       S|       1|            S|         S|              N|     S|        null|           1|          32018|\n",
         "+------------+--------------------+---------------+-----------+--------+--------+-------------+----------+---------------+------+------------+------------+---------------+\n",
         "only showing top 20 rows\n",
         "\n"
        ]
       }
      ],
      "source": [
       "df_municipio_2022_01.show()"
      ]
     },
     {
      "attachments": {},
      "cell_type": "markdown",
      "metadata": {},
      "source": [
       "### DIAGM"
      ]
     },
     {
      "cell_type": "code",
      "execution_count": 29,
      "metadata": {},
      "outputs": [
       {
        "name": "stdout",
        "output_type": "stream",
        "text": [
         "Schema:\n",
         "root\n",
         " |-- Mun: string (nullable = true)\n",
         " |-- Mesorregi�o: string (nullable = true)\n",
         " |-- Microrregi�o: string (nullable = true)\n",
         " |-- Div 19/20: string (nullable = true)\n",
         " |-- Rel 19/20: string (nullable = true)\n",
         " |-- �rea territorial - km� [2017]: string (nullable = true)\n",
         " |-- Popula��o estimada - pessoas [2018]: double (nullable = true)\n",
         " |-- Densidade demogr�fica - hab/km� [2010]: string (nullable = true)\n",
         " |-- Escolariza��o 6 a 14 anos - % [2010]: string (nullable = true)\n",
         " |-- IDHM �ndice de desenvolvimento humano municipal [2010]: string (nullable = true)\n",
         " |-- Mortalidade infantil - �bitos por mil nascidos vivos [2014]: string (nullable = true)\n",
         " |-- Or�ament�ria total - Receita(2018): string (nullable = true)\n",
         " |-- FPM - Receita(2018): string (nullable = true)\n",
         " |-- RPPS - Receita(2018): string (nullable = true)\n",
         " |-- FUNDEB - Receita(2018): string (nullable = true)\n",
         " |-- SUS - Receita(2018): string (nullable = true)\n",
         " |-- Desp Total - Despesa por fun��o (2018): string (nullable = true)\n",
         " |-- Sa�de - Despesa por fun��o (2018): string (nullable = true)\n",
         " |-- Educa��o - Despesa por fun��o (2018): string (nullable = true)\n",
         " |-- Previd�ncia Social - Despesa por fun��o (2018): string (nullable = true)\n",
         " |-- Popula��o Estratificada (IBGE): string (nullable = true)\n",
         " |-- _c39: integer (nullable = true)\n",
         "\n",
         "Rows: 227\n",
         "Columns: 22\n",
         "\n",
         "Null values per column:\n",
         "+---+-----------+------------+---------+---------+-----------------------------+-----------------------------------+--------------------------------------+------------------------------------+------------------------------------------------------+-----------------------------------------------------------+----------------------------------+-------------------+--------------------+----------------------+-------------------+--------------------------------------+---------------------------------+------------------------------------+----------------------------------------------+------------------------------+----+----+----+----+----+----+----+----+----+----+----+----+----+----+----+----+----+----+----+\n",
         "|Mun|Mesorregi�o|Microrregi�o|Div 19/20|Rel 19/20|�rea territorial - km� [2017]|Popula��o estimada - pessoas [2018]|Densidade demogr�fica - hab/km� [2010]|Escolariza��o 6 a 14 anos - % [2010]|IDHM �ndice de desenvolvimento humano municipal [2010]|Mortalidade infantil - �bitos por mil nascidos vivos [2014]|Or�ament�ria total - Receita(2018)|FPM - Receita(2018)|RPPS - Receita(2018)|FUNDEB - Receita(2018)|SUS - Receita(2018)|Desp Total - Despesa por fun��o (2018)|Sa�de - Despesa por fun��o (2018)|Educa��o - Despesa por fun��o (2018)|Previd�ncia Social - Despesa por fun��o (2018)|Popula��o Estratificada (IBGE)|_c21|_c22|_c23|_c24|_c25|_c26|_c27|_c28|_c29|_c30|_c31|_c32|_c33|_c34|_c35|_c36|_c37|_c38|_c39|\n",
         "+---+-----------+------------+---------+---------+-----------------------------+-----------------------------------+--------------------------------------+------------------------------------+------------------------------------------------------+-----------------------------------------------------------+----------------------------------+-------------------+--------------------+----------------------+-------------------+--------------------------------------+---------------------------------+------------------------------------+----------------------------------------------+------------------------------+----+----+----+----+----+----+----+----+----+----+----+----+----+----+----+----+----+----+----+\n",
         "|  4|          4|           4|        4|        4|                            4|                                  4|                                     4|                                   4|                                                     4|                                                          4|                                 4|                  4|                 165|                     4|                  4|                                     4|                                4|                                   4|                                           108|                             4| 227| 227| 227| 227| 227| 227| 227| 227| 227| 227| 227| 227| 227| 227| 227| 227| 227| 227|   4|\n",
         "+---+-----------+------------+---------+---------+-----------------------------+-----------------------------------+--------------------------------------+------------------------------------+------------------------------------------------------+-----------------------------------------------------------+----------------------------------+-------------------+--------------------+----------------------+-------------------+--------------------------------------+---------------------------------+------------------------------------+----------------------------------------------+------------------------------+----+----+----+----+----+----+----+----+----+----+----+----+----+----+----+----+----+----+----+\n",
         "\n"
        ]
       }
      ],
      "source": [
       "df_diagm_dados_mapa_2019 = read_and_analyse_df(r\"tables\\dados_est_muni_2019\\dados_estatisticos_agrupamentos_municipais_2019_dados_mapa.csv\", delimiter=\";\")"
      ]
     },
     {
      "cell_type": "code",
      "execution_count": 30,
      "metadata": {},
      "outputs": [
       {
        "name": "stdout",
        "output_type": "stream",
        "text": [
         "+-------------------+-----------------+-------------------+---------+---------+-----------------------------+-----------------------------------+--------------------------------------+------------------------------------+------------------------------------------------------+-----------------------------------------------------------+----------------------------------+-------------------+--------------------+----------------------+-------------------+--------------------------------------+---------------------------------+------------------------------------+----------------------------------------------+------------------------------+----+\n",
         "|                Mun|      Mesorregi�o|       Microrregi�o|Div 19/20|Rel 19/20|�rea territorial - km� [2017]|Popula��o estimada - pessoas [2018]|Densidade demogr�fica - hab/km� [2010]|Escolariza��o 6 a 14 anos - % [2010]|IDHM �ndice de desenvolvimento humano municipal [2010]|Mortalidade infantil - �bitos por mil nascidos vivos [2014]|Or�ament�ria total - Receita(2018)|FPM - Receita(2018)|RPPS - Receita(2018)|FUNDEB - Receita(2018)|SUS - Receita(2018)|Desp Total - Despesa por fun��o (2018)|Sa�de - Despesa por fun��o (2018)|Educa��o - Despesa por fun��o (2018)|Previd�ncia Social - Despesa por fun��o (2018)|Popula��o Estratificada (IBGE)|_c39|\n",
         "+-------------------+-----------------+-------------------+---------+---------+-----------------------------+-----------------------------------+--------------------------------------+------------------------------------+------------------------------------------------------+-----------------------------------------------------------+----------------------------------+-------------------+--------------------+----------------------+-------------------+--------------------------------------+---------------------------------+------------------------------------+----------------------------------------------+------------------------------+----+\n",
         "|        �gua Branca| Sert�o Paraibano|  Serra do Teixeira|       IX|     ACTP|                       236,61|                             10.161|                                 39,94|                              97,60 |                                                 0,57 |                                                     20,83 |                    27.709.441,63 |         9.486.189 |          1.900.949 |            7.979.806 |         4.371.716 |                           28.681.242 |                       6.781.314 |                         10.306.828 |                                    2.538.339 |          Pequena/M�dia (de...|null|\n",
         "|             Aguiar| Sert�o Paraibano|             Pianc�|        X|     ACTP|                       344,71|                              5.571|                                 16,04|                              98,90 |                                                 0,60 |                                                          -|                    16.099.056,92 |         7.114.642 |                null|            2.795.734 |         2.880.123 |                           15.143.944 |                       4.602.808 |                          4.865.800 |                                          null|          Pequena (de 5.001...|null|\n",
         "|      Alagoa Grande|Agreste Paraibano|    Brejo Paraibano|        I|     OMSM|                       320,56|                             28.623|                                 88,84|                              97,40 |                                                 0,58 |                                                     13,74 |                    65.872.617,55 |        16.600.831 |                null|           16.231.388 |        12.748.767 |                           51.630.363 |                      15.517.078 |                         20.004.134 |                                          null|          M�dia (de 20.001 ...|null|\n",
         "|        Alagoa Nova|Agreste Paraibano|    Brejo Paraibano|        I|     OMSM|                       122,26|                             20.589|                                160,98|                              97,90 |                                                 0,58 |                                                     17,86 |                    40.399.702,76 |        14.229.284 |          4.455.495 |            9.499.076 |         6.823.540 |                           38.979.414 |                       9.750.399 |                         11.858.718 |                                    8.937.028 |          M�dia (de 20.001 ...|null|\n",
         "|          Alagoinha|Agreste Paraibano|          Guarabira|        I|     OMSM|                        96,98|                             14.367|                                139,99|                              98,70 |                                                 0,60 |                                                     12,50 |                    41.614.422,48 |        11.857.736 |          5.194.849 |            7.805.324 |         5.662.735 |                           33.725.446 |                       8.500.767 |                         11.018.478 |                                    2.885.903 |          Pequena/M�dia (de...|   1|\n",
         "|           Alcantil|        Borborema|    Cariri Oriental|       VI|     ACSS|                       305,39|                              5.473|                                 17,15|                              95,70 |                                                 0,58 |                                                     43,86 |                    17.475.928,46 |         7.114.642 |                null|            3.492.704 |         2.720.214 |                           16.020.842 |                       4.672.244 |                          5.633.212 |                                          null|          Pequena (de 5.001...|   1|\n",
         "|Algod�o de Janda�ra|Agreste Paraibano|Curimata� Ocidental|        V|     RSSM|                       220,25|                              2.488|                                 10,74|                              98,50 |                                                 0,55 |                                                          -|                    15.244.630,03 |         7.114.642 |          1.303.733 |            2.610.860 |         1.907.326 |                           13.355.070 |                       2.927.755 |                          4.370.262 |                                      621.992 |          Vila/Pequena (at�...|   1|\n",
         "|           Alhandra|   Mata Paraibana|        Litoral Sul|      III|     APCL|                       182,66|                             19.391|                                 98,58|                              96,30 |                                                 0,58 |                                                     14,02 |                    75.407.742,21 |        14.229.284 |                null|           12.202.198 |         6.457.870 |                           72.447.605 |                      17.202.171 |                         19.808.923 |                                    5.103.065 |          Pequena/M�dia (de...|   1|\n",
         "|             Amparo|        Borborema|   Cariri Ocidental|       IV|      MAC|                       121,98|                              2.227|                                 17,12|                              98,10 |                                                 0,61 |                                                     51,28 |                    11.982.852,35 |         7.114.642 |                null|            1.784.127 |         1.174.791 |                           11.804.295 |                       2.934.138 |                          3.075.104 |                                          null|          Vila/Pequena (at�...|   1|\n",
         "|          Aparecida| Sert�o Paraibano|              Sousa|     VIII|     ANDF|                       295,71|                              8.337|                                 25,96|                              96,20 |                                                 0,58 |                                                     16,95 |                    17.948.374,84 |         7.114.642 |                null|            4.193.344 |         2.175.416 |                           17.019.152 |                       4.247.878 |                          5.945.529 |                                          null|          Pequena (de 5.001...|   1|\n",
         "|            Ara�agi|Agreste Paraibano|          Guarabira|        I|     OMSM|                       231,16|                             17.079|                                 74,51|                              95,00 |                                                 0,55 |                                                     13,16 |                    34.779.323,44 |        14.229.284 |                null|            9.689.750 |         5.347.975 |                           31.442.351 |                       7.830.483 |                         13.236.957 |                                      894.198 |          Pequena/M�dia (de...|   1|\n",
         "|              Arara|Agreste Paraibano|Curimata� Ocidental|        V|     RSSM|                        99,11|                             13.438|                                127,66|                              97,30 |                                                 0,55 |                                                      7,58 |                    26.864.030,09 |         9.486.189 |          2.991.771 |            6.519.699 |         3.437.754 |                           28.767.618 |                       6.307.751 |                          9.636.156 |                                    3.447.707 |          Pequena/M�dia (de...|   1|\n",
         "|            Araruna|Agreste Paraibano| Curimata� Oriental|        I|     OMSM|                       241,30|                             20.215|                                 76,83|                              97,50 |                                                 0,57 |                                                     16,67 |                    40.504.794,18 |        14.229.284 |                null|           11.601.494 |         8.408.565 |                           41.111.965 |                      11.726.051 |                         15.710.147 |                                      152.666 |          M�dia (de 20.001 ...|   1|\n",
         "|              Areia|Agreste Paraibano|    Brejo Paraibano|        V|     RSSM|                       266,60|                             22.978|                                 88,42|                              97,50 |                                                 0,59 |                                                     13,70 |                    39.821.325,39 |        14.229.284 |                null|           10.233.084 |         5.113.525 |                           36.492.353 |                      10.965.833 |                         13.881.924 |                                          null|          M�dia (de 20.001 ...|   1|\n",
         "|  Areia de Bara�nas| Sert�o Paraibano|              Patos|       IX|     APCL|                       112,09|                               2.14|                                    20|                              98,80 |                                                 0,56 |                                                          -|                    11.591.349,29 |         7.114.642 |                null|            1.241.911 |           863.788 |                           11.056.455 |                       2.768.048 |                          2.973.353 |                                    1.076.530 |          Vila/Pequena (at�...|   1|\n",
         "|             Areial|Agreste Paraibano|          Esperan�a|        V|     RSSM|                        35,64|                              6.935|                                195,22|                              98,10 |                                                 0,61 |                                                     24,39 |                    18.833.541,27 |         7.114.642 |                null|            5.247.636 |         3.139.329 |                           17.188.927 |                       3.486.113 |                          7.045.827 |                                          null|          Pequena (de 5.001...|   1|\n",
         "|           Aroeiras|Agreste Paraibano|          Umbuzeiro|       VI|     ACSS|                       374,70|                              19.19|                                 50,93|                              97,90 |                                                 0,55 |                                                      8,72 |                    38.771.556,10 |        14.229.284 |                null|           11.059.435 |         7.431.651 |                           37.648.140 |                      10.563.023 |                         15.945.835 |                                          null|          Pequena/M�dia (de...|   1|\n",
         "|           Assun��o|        Borborema|   Cariri Ocidental|       IX|     ANDF|                       126,43|                               3.87|                                 27,86|                              99,00 |                                                 0,61 |                                                     14,93 |                    15.348.974,76 |         7.114.642 |                null|            3.268.508 |         1.903.512 |                           13.763.566 |                       2.777.526 |                          5.004.116 |                                      337.374 |          Vila/Pequena (at�...|   1|\n",
         "|    Ba�a da Trai��o|   Mata Paraibana|      Litoral Norte|       II|      FRC|                       102,24|                              8.933|                                 78,27|                              98,70 |                                                 0,58 |                                                     12,42 |                    23.862.122,11 |         7.114.642 |                null|            8.033.930 |         3.980.770 |                           22.005.121 |                       3.957.027 |                         10.403.324 |                                          null|          Pequena (de 5.001...|   1|\n",
         "|         Bananeiras|Agreste Paraibano|    Brejo Paraibano|        I|     OMSM|                       257,75|                              21.21|                                 84,72|                              94,60 |                                                 0,57 |                                                      6,49 |                    49.548.967,87 |        14.229.284 |          3.358.186 |           12.876.694 |         8.652.082 |                           46.257.750 |                      11.032.309 |                         15.349.030 |                                    4.395.076 |          M�dia (de 20.001 ...|   1|\n",
         "+-------------------+-----------------+-------------------+---------+---------+-----------------------------+-----------------------------------+--------------------------------------+------------------------------------+------------------------------------------------------+-----------------------------------------------------------+----------------------------------+-------------------+--------------------+----------------------+-------------------+--------------------------------------+---------------------------------+------------------------------------+----------------------------------------------+------------------------------+----+\n",
         "only showing top 20 rows\n",
         "\n"
        ]
       }
      ],
      "source": [
       "df_diagm_dados_mapa_2019.show()"
      ]
     },
     {
      "cell_type": "code",
      "execution_count": 31,
      "metadata": {},
      "outputs": [
       {
        "name": "stdout",
        "output_type": "stream",
        "text": [
         "Schema:\n",
         "root\n",
         " |-- Munic�pio [-]: string (nullable = true)\n",
         " |-- C�digo [-]: integer (nullable = true)\n",
         " |-- Gent�lico [-]: string (nullable = true)\n",
         " |-- Prefeito [2017]: string (nullable = true)\n",
         " |-- �rea territorial - km� [2017]: double (nullable = true)\n",
         " |-- Popula��o estimada - pessoas [2018]: integer (nullable = true)\n",
         " |-- Densidade demogr�fica - hab/km� [2010]: double (nullable = true)\n",
         " |-- Escolariza��o 6 a 14 anos - % [2010]: double (nullable = true)\n",
         " |-- IDHM �ndice de desenvolvimento humano municipal [2010]: double (nullable = true)\n",
         " |-- Mortalidade infantil - �bitos por mil nascidos vivos [2014]: string (nullable = true)\n",
         " |-- Receitas realizadas - R$ (�1000) [2017]: string (nullable = true)\n",
         " |-- Despesas empenhadas - R$ (�1000) [2017]: string (nullable = true)\n",
         " |-- PIB per capita - R$ [2016]: string (nullable = true)\n",
         "\n",
         "Rows: 223\n",
         "Columns: 13\n",
         "\n",
         "Null values per column:\n",
         "+-------------+----------+-------------+---------------+-----------------------------+-----------------------------------+--------------------------------------+------------------------------------+------------------------------------------------------+-----------------------------------------------------------+---------------------------------------+---------------------------------------+--------------------------+----+----+----+----+\n",
         "|Munic�pio [-]|C�digo [-]|Gent�lico [-]|Prefeito [2017]|�rea territorial - km� [2017]|Popula��o estimada - pessoas [2018]|Densidade demogr�fica - hab/km� [2010]|Escolariza��o 6 a 14 anos - % [2010]|IDHM �ndice de desenvolvimento humano municipal [2010]|Mortalidade infantil - �bitos por mil nascidos vivos [2014]|Receitas realizadas - R$ (�1000) [2017]|Despesas empenhadas - R$ (�1000) [2017]|PIB per capita - R$ [2016]|_c13|_c14|_c15|_c16|\n",
         "+-------------+----------+-------------+---------------+-----------------------------+-----------------------------------+--------------------------------------+------------------------------------+------------------------------------------------------+-----------------------------------------------------------+---------------------------------------+---------------------------------------+--------------------------+----+----+----+----+\n",
         "|            0|         0|            0|              0|                            0|                                  0|                                     0|                                   0|                                                     0|                                                          0|                                      0|                                      0|                         0| 223| 223| 223| 223|\n",
         "+-------------+----------+-------------+---------------+-----------------------------+-----------------------------------+--------------------------------------+------------------------------------+------------------------------------------------------+-----------------------------------------------------------+---------------------------------------+---------------------------------------+--------------------------+----+----+----+----+\n",
         "\n"
        ]
       }
      ],
      "source": [
       "df_diagm_dados_est_ibge_2019 = read_and_analyse_df(r\"tables\\dados_est_muni_2019\\dados_estatisticos_agrupamentos_municipais_2019_dados_est_ibge.csv\", delimiter=\";\")"
      ]
     },
     {
      "cell_type": "code",
      "execution_count": 32,
      "metadata": {},
      "outputs": [
       {
        "name": "stdout",
        "output_type": "stream",
        "text": [
         "+-------------------+----------+----------------+--------------------+-----------------------------+-----------------------------------+--------------------------------------+------------------------------------+------------------------------------------------------+-----------------------------------------------------------+---------------------------------------+---------------------------------------+--------------------------+\n",
         "|      Munic�pio [-]|C�digo [-]|   Gent�lico [-]|     Prefeito [2017]|�rea territorial - km� [2017]|Popula��o estimada - pessoas [2018]|Densidade demogr�fica - hab/km� [2010]|Escolariza��o 6 a 14 anos - % [2010]|IDHM �ndice de desenvolvimento humano municipal [2010]|Mortalidade infantil - �bitos por mil nascidos vivos [2014]|Receitas realizadas - R$ (�1000) [2017]|Despesas empenhadas - R$ (�1000) [2017]|PIB per capita - R$ [2016]|\n",
         "+-------------------+----------+----------------+--------------------+-----------------------------+-----------------------------------+--------------------------------------+------------------------------------+------------------------------------------------------+-----------------------------------------------------------+---------------------------------------+---------------------------------------+--------------------------+\n",
         "|        �gua Branca|   2500106| agua branquense|EVERTON FIRMINO B...|                      236.608|                              10161|                                 39.94|                                97.6|                                                 0.572|                                                      20.83|                                  24636|                                  23228|                   7385.05|\n",
         "|             Aguiar|   2500205|      aguiarense|LOURIVAL LACERDA ...|                      344.708|                               5571|                                 16.04|                                98.9|                                                 0.597|                                                          -|                                  18852|                                  18417|                   7966.25|\n",
         "|      Alagoa Grande|   2500304|alagoa-grandense|ANTONIO DA SILVA ...|                      320.563|                              28623|                                 88.84|                                97.4|                                                 0.582|                                                      13.74|                                  50172|                                  49154|                   8378.43|\n",
         "|        Alagoa Nova|   2500403|  alagoa-novense|JOS� UCH�A DE AQU...|                      122.255|                              20589|                                160.98|                                97.9|                                                 0.576|                                                      17.86|                                  41348|                                  40185|                  12179.90|\n",
         "|          Alagoinha|   2500502|    alagoinhense|JEOV� JOS� CORREI...|                        96.98|                              14367|                                139.99|                                98.7|                                                 0.595|                                                       12.5|                                  36868|                                  32854|                   6925.74|\n",
         "|           Alcantil|   2500536|    alcantilense|JOS� MILTON RODRI...|                      305.394|                               5473|                                 17.15|                                95.7|                                                 0.578|                                                      43.86|                                  16434|                                  15581|                   7115.44|\n",
         "|Algod�o de Janda�ra|   2500577|      algodoense|MARICLEIDE IZIDRO...|                      220.248|                               2488|                                 10.74|                                98.5|                                                 0.548|                                                          -|                                  14506|                                  12536|                   9306.27|\n",
         "|           Alhandra|   2500601|     alhandrense| RENATO MENDES LEITE|                      182.663|                              19391|                                 98.58|                                96.3|                                                 0.582|                                                      14.02|                                  67916|                                  65129|                  44508.60|\n",
         "|             Amparo|   2500734|       amparense|IN�CIO LUIZ N�BRE...|                      121.984|                               2227|                                 17.12|                                98.1|                                                 0.606|                                                      51.28|                                  12823|                                  11568|                   9860.38|\n",
         "|          Aparecida|   2500775|    aparecidense|JULIO CESAR QUEIR...|                      295.705|                               8337|                                 25.96|                                96.2|                                                 0.578|                                                      16.95|                                  18205|                                  16287|                   8687.49|\n",
         "|            Ara�agi|   2500809|     ara�agiense|MURILIO DA SILVA ...|                      231.155|                              17079|                                 74.51|                                95.0|                                                 0.549|                                                      13.16|                                  32400|                                  31924|                   8307.35|\n",
         "|              Arara|   2500908|       araraense|JOS� AILTON PEREI...|                       99.111|                              13438|                                127.66|                                97.3|                                                 0.548|                                                       7.58|                                  26313|                                  23928|                   6708.35|\n",
         "|            Araruna|   2501005|      ararunense|VITAL DA COSTA AR...|                      241.302|                              20215|                                 76.83|                                97.5|                                                 0.567|                                                      16.67|                                  39594|                                  38426|                   7653.89|\n",
         "|              Areia|   2501104|        areiense|JO�O FRANCISCO BA...|                      266.596|                              22978|                                 88.42|                                97.5|                                                 0.594|                                                       13.7|                                  37908|                                  33486|                   9056.24|\n",
         "|  Areia de Bara�nas|   2501153|      baraunense| MARIA DA GUIA ALVES|                      112.089|                               2140|                                  20.0|                                98.8|                                                 0.562|                                                          -|                                  12216|                                  10960|                   8008.34|\n",
         "|             Areial|   2501203|      areialense|ADELSON GON�ALVES...|                       35.641|                               6935|                                195.22|                                98.1|                                                 0.608|                                                      24.39|                                  17636|                                  14716|                   7364.21|\n",
         "|           Aroeiras|   2501302|      aroeirense|MYLTON DOMINGUES ...|                      374.697|                              19190|                                 50.93|                                97.9|                                                 0.548|                                                       8.72|                                  41679|                                  38076|                   7150.10|\n",
         "|           Assun��o|   2501351|    assun��oense|LUIZ WALDVOGEL DE...|                      126.428|                               3870|                                 27.86|                                99.0|                                                 0.609|                                                      14.93|                                  14571|                                  14208|                   9023.06|\n",
         "|    Ba�a da Trai��o|   2501401|       baianense|EUCLIDES S�RGIO C...|                      102.242|                               8933|                                 78.27|                                98.7|                                                 0.581|                                                      12.42|                                  21052|                                  19774|                   8647.69|\n",
         "|         Bananeiras|   2501500|    bananeirense|DOUGLAS LUCENA MO...|                      257.753|                              21210|                                 84.72|                                94.6|                                                 0.568|                                                       6.49|                                  47274|                                  50560|                  10784.91|\n",
         "+-------------------+----------+----------------+--------------------+-----------------------------+-----------------------------------+--------------------------------------+------------------------------------+------------------------------------------------------+-----------------------------------------------------------+---------------------------------------+---------------------------------------+--------------------------+\n",
         "only showing top 20 rows\n",
         "\n"
        ]
       }
      ],
      "source": [
       "df_diagm_dados_est_ibge_2019.show()"
      ]
     },
     {
      "attachments": {},
      "cell_type": "markdown",
      "metadata": {},
      "source": [
       "### CNES UFPB"
      ]
     },
     {
      "cell_type": "code",
      "execution_count": 33,
      "metadata": {},
      "outputs": [
       {
        "name": "stdout",
        "output_type": "stream",
        "text": [
         "Schema:\n",
         "root\n",
         " |-- CODUFMUN: integer (nullable = true)\n",
         " |-- COMPETEN: integer (nullable = true)\n",
         " |-- NUM_CNES: integer (nullable = true)\n",
         " |-- NUM_CNES_PF: integer (nullable = true)\n",
         " |-- NUM_CNES_PJ: integer (nullable = true)\n",
         " |-- NIV_DEP_IND: integer (nullable = true)\n",
         " |-- NIV_DEP_MAN: integer (nullable = true)\n",
         " |-- VINC_SUS_1: integer (nullable = true)\n",
         " |-- VINC_SUS_0: integer (nullable = true)\n",
         " |-- TPGESTAO_M: integer (nullable = true)\n",
         " |-- TPGESTAO_E: integer (nullable = true)\n",
         " |-- TPGESTAO_D: integer (nullable = true)\n",
         " |-- QTLEITP1: integer (nullable = true)\n",
         " |-- QTLEITP2: integer (nullable = true)\n",
         " |-- QTLEITP3: integer (nullable = true)\n",
         " |-- NUM_LEIT_HOSP: integer (nullable = true)\n",
         " |-- NUM_URGEMERG: integer (nullable = true)\n",
         " |-- NUM_ATENDAMB: integer (nullable = true)\n",
         " |-- NUM_CENTR_CIR: integer (nullable = true)\n",
         " |-- NUM_CENTR_OBS: integer (nullable = true)\n",
         " |-- NUM_CENTR_NEO: integer (nullable = true)\n",
         " |-- NUM_ATEND_HOSP: integer (nullable = true)\n",
         " |-- NUM_ATEND_PREST: integer (nullable = true)\n",
         " |-- NUM_MED: integer (nullable = true)\n",
         " |-- NUM_ENF_SUP: integer (nullable = true)\n",
         " |-- NUM_ENF_TEC: integer (nullable = true)\n",
         " |-- NUM_ODONT: integer (nullable = true)\n",
         " |-- NUM_OUT_PROF: integer (nullable = true)\n",
         " |-- NUM_VINCUL_C: integer (nullable = true)\n",
         " |-- NUM_VINCUL_A: integer (nullable = true)\n",
         " |-- NUM_VINCUL_N: integer (nullable = true)\n",
         " |-- NUM_PROF_SUS: integer (nullable = true)\n",
         " |-- NUM_PROF_NSUS: integer (nullable = true)\n",
         " |-- NUM_LT_EXIST: integer (nullable = true)\n",
         " |-- NUM_LT_CONTR: integer (nullable = true)\n",
         " |-- NUM_LT_SUS: integer (nullable = true)\n",
         " |-- NUM_LT_NSUS: integer (nullable = true)\n",
         " |-- NUM_EQUIP_EXIST: integer (nullable = true)\n",
         " |-- NUM_EQUIP_USO: integer (nullable = true)\n",
         " |-- NUM_EQUIP_SUS: integer (nullable = true)\n",
         " |-- NUM_EQUIP_NSUS: integer (nullable = true)\n",
         " |-- NUM_EQUIPE: integer (nullable = true)\n",
         " |-- NUM_EQ_ATIVA: integer (nullable = true)\n",
         " |-- NUM_EQ_URB: integer (nullable = true)\n",
         " |-- NUM_EQ_RUR: integer (nullable = true)\n",
         "\n",
         "Rows: 2676\n",
         "Columns: 45\n",
         "\n",
         "Null values per column:\n",
         "+--------+--------+--------+-----------+-----------+-----------+-----------+----------+----------+----------+----------+----------+--------+--------+--------+-------------+------------+------------+-------------+-------------+-------------+--------------+---------------+-------+-----------+-----------+---------+------------+------------+------------+------------+------------+-------------+------------+------------+----------+-----------+---------------+-------------+-------------+--------------+----------+------------+----------+----------+\n",
         "|CODUFMUN|COMPETEN|NUM_CNES|NUM_CNES_PF|NUM_CNES_PJ|NIV_DEP_IND|NIV_DEP_MAN|VINC_SUS_1|VINC_SUS_0|TPGESTAO_M|TPGESTAO_E|TPGESTAO_D|QTLEITP1|QTLEITP2|QTLEITP3|NUM_LEIT_HOSP|NUM_URGEMERG|NUM_ATENDAMB|NUM_CENTR_CIR|NUM_CENTR_OBS|NUM_CENTR_NEO|NUM_ATEND_HOSP|NUM_ATEND_PREST|NUM_MED|NUM_ENF_SUP|NUM_ENF_TEC|NUM_ODONT|NUM_OUT_PROF|NUM_VINCUL_C|NUM_VINCUL_A|NUM_VINCUL_N|NUM_PROF_SUS|NUM_PROF_NSUS|NUM_LT_EXIST|NUM_LT_CONTR|NUM_LT_SUS|NUM_LT_NSUS|NUM_EQUIP_EXIST|NUM_EQUIP_USO|NUM_EQUIP_SUS|NUM_EQUIP_NSUS|NUM_EQUIPE|NUM_EQ_ATIVA|NUM_EQ_URB|NUM_EQ_RUR|\n",
         "+--------+--------+--------+-----------+-----------+-----------+-----------+----------+----------+----------+----------+----------+--------+--------+--------+-------------+------------+------------+-------------+-------------+-------------+--------------+---------------+-------+-----------+-----------+---------+------------+------------+------------+------------+------------+-------------+------------+------------+----------+-----------+---------------+-------------+-------------+--------------+----------+------------+----------+----------+\n",
         "|       0|       0|       0|          0|          0|          0|          0|         0|         0|         0|         0|         0|       0|       0|       0|            0|           0|           0|            0|            0|            0|             0|              0|      0|          0|          0|        0|           0|           0|           0|           0|           0|            0|        1501|        1501|      1501|       1501|              0|            0|            0|             0|         0|           0|         0|         0|\n",
         "+--------+--------+--------+-----------+-----------+-----------+-----------+----------+----------+----------+----------+----------+--------+--------+--------+-------------+------------+------------+-------------+-------------+-------------+--------------+---------------+-------+-----------+-----------+---------+------------+------------+------------+------------+------------+-------------+------------+------------+----------+-----------+---------------+-------------+-------------+--------------+----------+------------+----------+----------+\n",
         "\n"
        ]
       }
      ],
      "source": [
       "df_cnes_ufpb_2022 = read_and_analyse_df(r\"tables\\UFPB_CNES\\PB2_CNES_2022.csv\", delimiter=\",\")"
      ]
     },
     {
      "cell_type": "code",
      "execution_count": 34,
      "metadata": {},
      "outputs": [
       {
        "name": "stdout",
        "output_type": "stream",
        "text": [
         "+--------+--------+--------+-----------+-----------+-----------+-----------+----------+----------+----------+----------+----------+--------+--------+--------+-------------+------------+------------+-------------+-------------+-------------+--------------+---------------+-------+-----------+-----------+---------+------------+------------+------------+------------+------------+-------------+------------+------------+----------+-----------+---------------+-------------+-------------+--------------+----------+------------+----------+----------+\n",
         "|CODUFMUN|COMPETEN|NUM_CNES|NUM_CNES_PF|NUM_CNES_PJ|NIV_DEP_IND|NIV_DEP_MAN|VINC_SUS_1|VINC_SUS_0|TPGESTAO_M|TPGESTAO_E|TPGESTAO_D|QTLEITP1|QTLEITP2|QTLEITP3|NUM_LEIT_HOSP|NUM_URGEMERG|NUM_ATENDAMB|NUM_CENTR_CIR|NUM_CENTR_OBS|NUM_CENTR_NEO|NUM_ATEND_HOSP|NUM_ATEND_PREST|NUM_MED|NUM_ENF_SUP|NUM_ENF_TEC|NUM_ODONT|NUM_OUT_PROF|NUM_VINCUL_C|NUM_VINCUL_A|NUM_VINCUL_N|NUM_PROF_SUS|NUM_PROF_NSUS|NUM_LT_EXIST|NUM_LT_CONTR|NUM_LT_SUS|NUM_LT_NSUS|NUM_EQUIP_EXIST|NUM_EQUIP_USO|NUM_EQUIP_SUS|NUM_EQUIP_NSUS|NUM_EQUIPE|NUM_EQ_ATIVA|NUM_EQ_URB|NUM_EQ_RUR|\n",
         "+--------+--------+--------+-----------+-----------+-----------+-----------+----------+----------+----------+----------+----------+--------+--------+--------+-------------+------------+------------+-------------+-------------+-------------+--------------+---------------+-------+-----------+-----------+---------+------------+------------+------------+------------+------------+-------------+------------+------------+----------+-----------+---------------+-------------+-------------+--------------+----------+------------+----------+----------+\n",
         "|  250010|  202201|      18|          0|         18|          1|         17|        17|         1|        18|         0|         0|       0|      10|       0|            1|           1|          10|            0|            2|            2|             2|             18|     14|         14|         28|       10|          84|         145|           0|           0|         147|            1|          20|           0|        20|          0|             66|           66|           66|             0|        13|          13|        10|         3|\n",
         "|  250010|  202202|      18|          0|         18|          1|         17|        17|         1|        18|         0|         0|       0|      10|       0|            1|           1|          10|            0|            2|            2|             2|             18|     15|         14|         28|        9|          85|         146|           0|           0|         148|            1|          20|           0|        20|          0|             66|           66|           66|             0|        14|          14|        11|         3|\n",
         "|  250010|  202203|      18|          0|         18|          1|         17|        17|         1|        18|         0|         0|       0|      10|       0|            1|           1|          10|            0|            2|            2|             2|             18|     15|         14|         28|       10|          86|         148|           0|           0|         150|            1|          20|           0|        20|          0|             66|           66|           66|             0|        14|          14|        11|         3|\n",
         "|  250010|  202204|      18|          0|         18|          1|         17|        17|         1|        18|         0|         0|       0|      10|       0|            1|           1|          10|            0|            2|            2|             2|             18|     15|         15|         28|       10|          86|         149|           0|           0|         151|            1|          20|           0|        20|          0|             66|           66|           66|             0|        14|          14|        11|         3|\n",
         "|  250010|  202205|      18|          0|         18|          1|         17|        17|         1|        18|         0|         0|       0|      10|       0|            1|           1|          10|            0|            2|            2|             2|             18|     15|         14|         27|       10|          86|         147|           0|           0|         149|            1|          20|           0|        20|          0|             66|           66|           66|             0|        14|          14|        11|         3|\n",
         "|  250010|  202206|      18|          0|         18|          1|         17|        17|         1|        18|         0|         0|       0|      10|       0|            1|           1|          10|            0|            2|            2|             2|             18|     16|         13|         27|       10|          87|         148|           0|           0|         150|            1|          20|           0|        20|          0|             66|           66|           66|             0|        14|          14|        11|         3|\n",
         "|  250010|  202207|      18|          0|         18|          1|         17|        17|         1|        18|         0|         0|       0|      10|       0|            1|           1|          11|            0|            2|            2|             2|             18|     16|         14|         27|       10|          87|         149|           0|           0|         151|            1|          20|           0|        20|          0|             66|           66|           66|             0|        14|          14|        11|         3|\n",
         "|  250010|  202208|      18|          0|         18|          1|         17|        17|         1|        18|         0|         0|       0|      10|       0|            1|           1|          11|            0|            2|            2|             2|             18|     16|         14|         27|       10|          90|         152|           0|           0|         154|            1|          20|           0|        20|          0|             66|           66|           66|             0|        14|          14|        11|         3|\n",
         "|  250010|  202209|      18|          0|         18|          1|         17|        17|         1|        18|         0|         0|       0|      10|       0|            1|           1|          11|            0|            2|            2|             2|             18|     14|         14|         27|       10|          89|         150|           0|           0|         151|            1|          20|           0|        20|          0|             66|           66|           66|             0|        14|          14|        11|         3|\n",
         "|  250010|  202210|      18|          0|         18|          1|         17|        17|         1|        18|         0|         0|       0|      10|       0|            1|           1|          11|            0|            2|            2|             2|             18|     13|         15|         27|       10|          89|         150|           0|           0|         151|            1|          20|           0|        20|          0|             66|           66|           66|             0|        14|          14|        11|         3|\n",
         "|  250010|  202211|      18|          0|         18|          1|         17|        17|         1|        18|         0|         0|       0|      10|       0|            1|           1|          11|            0|            2|            2|             2|             18|     13|         16|         27|       10|          89|         151|           0|           0|         152|            1|          20|           0|        20|          0|             66|           66|           66|             0|        14|          14|        11|         3|\n",
         "|  250010|  202212|      18|          0|         18|          1|         17|        17|         1|        18|         0|         0|       0|      10|       0|            1|           1|          11|            0|            2|            2|             2|             18|     17|         16|         27|       10|          89|         152|           0|           0|         156|            1|          20|           0|        20|          0|             68|           68|           68|             0|        14|          14|        11|         3|\n",
         "|  250020|  202201|      14|          0|         14|          1|         13|        13|         1|        14|         0|         0|       0|       9|       0|            1|           1|           9|            0|            0|            0|             0|             14|     14|         15|         21|        6|          53|         106|           2|           0|         107|            1|          12|           0|        12|          0|             11|           11|            9|             0|         6|           6|         5|         1|\n",
         "|  250020|  202202|      14|          0|         14|          1|         13|        13|         1|        14|         0|         0|       0|       9|       0|            1|           1|           9|            0|            0|            0|             0|             14|     11|         15|         21|        6|          53|         103|           2|           0|         104|            1|          12|           0|        12|          0|             11|           11|            9|             0|         6|           6|         5|         1|\n",
         "|  250020|  202203|      14|          0|         14|          1|         13|        13|         1|        14|         0|         0|       0|       9|       0|            1|           1|           9|            0|            0|            0|             0|             14|     11|         15|         21|        6|          53|         103|           2|           0|         104|            1|          12|           0|        12|          0|             11|           11|            9|             0|         6|           6|         5|         1|\n",
         "|  250020|  202204|      14|          0|         14|          1|         13|        13|         1|        14|         0|         0|       0|       9|       0|            1|           1|           9|            0|            0|            0|             0|             14|     11|         15|         21|        6|          53|         103|           2|           0|         104|            1|          12|           0|        12|          0|             11|           11|            9|             0|         6|           6|         5|         1|\n",
         "|  250020|  202205|      14|          0|         14|          1|         13|        13|         1|        14|         0|         0|       0|       9|       0|            1|           1|           9|            0|            0|            0|             0|             14|     10|         15|         21|        6|          55|         104|           2|           0|         104|            2|          12|           0|        12|          0|             11|           11|            9|             0|         6|           6|         5|         1|\n",
         "|  250020|  202206|      14|          0|         14|          1|         13|        13|         1|        14|         0|         0|       0|       9|       0|            1|           1|           9|            0|            0|            0|             0|             14|     10|         15|         21|        6|          55|         104|           2|           0|         104|            2|          12|           0|        12|          0|             11|           11|            9|             0|         6|           6|         5|         1|\n",
         "|  250020|  202207|      14|          0|         14|          1|         13|        13|         1|        14|         0|         0|       0|       9|       0|            1|           1|           9|            0|            0|            0|             0|             14|     10|         15|         21|        6|          55|         104|           2|           0|         104|            2|          12|           0|        12|          0|             11|           11|            9|             0|         6|           6|         5|         1|\n",
         "|  250020|  202208|      14|          0|         14|          1|         13|        13|         1|        14|         0|         0|       0|       9|       0|            1|           1|           9|            0|            0|            0|             0|             14|     12|         15|         21|        6|          56|         106|           2|           0|         107|            1|          12|           0|        12|          0|             11|           11|            9|             0|         6|           6|         5|         1|\n",
         "+--------+--------+--------+-----------+-----------+-----------+-----------+----------+----------+----------+----------+----------+--------+--------+--------+-------------+------------+------------+-------------+-------------+-------------+--------------+---------------+-------+-----------+-----------+---------+------------+------------+------------+------------+------------+-------------+------------+------------+----------+-----------+---------------+-------------+-------------+--------------+----------+------------+----------+----------+\n",
         "only showing top 20 rows\n",
         "\n"
        ]
       }
      ],
      "source": [
       "df_cnes_ufpb_2022.show()"
      ]
     },
     {
      "attachments": {},
      "cell_type": "markdown",
      "metadata": {},
      "source": [
       "### Internações Hospitalares"
      ]
     },
     {
      "cell_type": "code",
      "execution_count": 35,
      "metadata": {},
      "outputs": [
       {
        "name": "stdout",
        "output_type": "stream",
        "text": [
         "Schema:\n",
         "root\n",
         " |-- Munic�pio: string (nullable = true)\n",
         " |-- Interna��es: integer (nullable = true)\n",
         "\n",
         "Rows: 60\n",
         "Columns: 2\n",
         "\n",
         "Null values per column:\n",
         "+---------+-----------+\n",
         "|Munic�pio|Interna��es|\n",
         "+---------+-----------+\n",
         "|        0|          8|\n",
         "+---------+-----------+\n",
         "\n"
        ]
       }
      ],
      "source": [
       "df_internacoes_2022_01 = read_and_analyse_df(r\"tables\\Atendimentos\\Internações_Hospitalares_012022.csv\", delimiter=\";\")"
      ]
     },
     {
      "cell_type": "code",
      "execution_count": 36,
      "metadata": {},
      "outputs": [
       {
        "name": "stdout",
        "output_type": "stream",
        "text": [
         "+--------------------+-----------+\n",
         "|           Munic�pio|Interna��es|\n",
         "+--------------------+-----------+\n",
         "|  250010 �gua Branca|         10|\n",
         "|  250040 Alagoa Nova|         30|\n",
         "|        250110 Areia|         23|\n",
         "|     250130 Aroeiras|          3|\n",
         "|       250180 Bayeux|         66|\n",
         "|        250190 Bel�m|          1|\n",
         "|250240 Bonito de ...|         17|\n",
         "|    250250 Boqueir�o|         17|\n",
         "|250280 Brejo do Cruz|         25|\n",
         "|      250300 Caapor�|        147|\n",
         "|     250320 Cabedelo|        125|\n",
         "|   250370 Cajazeiras|        593|\n",
         "|250400 Campina Gr...|       3979|\n",
         "|250430 Catol� do ...|         97|\n",
         "|    250440 Concei��o|         24|\n",
         "|      250480 Coremas|         36|\n",
         "|        250510 Cuit�|         43|\n",
         "|    250600 Esperan�a|         30|\n",
         "|    250630 Guarabira|          1|\n",
         "|    250690 Itabaiana|        100|\n",
         "+--------------------+-----------+\n",
         "only showing top 20 rows\n",
         "\n"
        ]
       }
      ],
      "source": [
       "df_internacoes_2022_01.show()"
      ]
     },
     {
      "attachments": {},
      "cell_type": "markdown",
      "metadata": {},
      "source": [
       "### Atendimentos Ambulatórios"
      ]
     },
     {
      "cell_type": "code",
      "execution_count": 37,
      "metadata": {},
      "outputs": [
       {
        "name": "stdout",
        "output_type": "stream",
        "text": [
         "Schema:\n",
         "root\n",
         " |-- Munic�pio: string (nullable = true)\n",
         " |-- qtd_aprovada: integer (nullable = true)\n",
         "\n",
         "Rows: 224\n",
         "Columns: 2\n",
         "\n",
         "Null values per column:\n",
         "+---------+------------+\n",
         "|Munic�pio|qtd_aprovada|\n",
         "+---------+------------+\n",
         "|        0|           8|\n",
         "+---------+------------+\n",
         "\n"
        ]
       }
      ],
      "source": [
       "df_atendimentos_amb_2022_01 = spark.read.format(\"csv\").options(header=\"True\", delimiter=\";\", inferSchema=\"True\") \\\n",
       "                            .load(r\"tables\\Atendimentos\\Atendimentos_Ambulatoriais_012022.csv\")\n",
       "\n",
       "df_atendimentos_amb_2022_01 = df_atendimentos_amb_2022_01.withColumnRenamed(df_atendimentos_amb_2022_01.columns[1], \"qtd_aprovada\").na.drop(\"all\")\n",
       "\n",
       "df_null_count = df_atendimentos_amb_2022_01.select([count(when(isnan(c) | col(c).isNull(), c)).alias(c) for c in df_atendimentos_amb_2022_01.columns])\n",
       "                        # count when column is NaN or Null\n",
       "null_count = df_null_count.collect()[0].asDict()\n",
       "columns_to_drop = [c for c, n in null_count.items() if n >= df_atendimentos_amb_2022_01.count()] # list of all columns with count of null values equal to the number of rows\n",
       "df_atendimentos_amb_2022_01 = df_atendimentos_amb_2022_01.drop(*columns_to_drop) # drop all of those columns\n",
       "            # starred expression (*variable) will pass the list as arguments\n",
       "\n",
       "print(\"Schema:\")\n",
       "df_atendimentos_amb_2022_01.printSchema()\n",
       "print(f\"Rows: {df_atendimentos_amb_2022_01.count()}\\nColumns: {len(df_atendimentos_amb_2022_01.columns)}\\n\")\n",
       "print(\"Null values per column:\")\n",
       "df_null_count.show()"
      ]
     },
     {
      "cell_type": "code",
      "execution_count": 38,
      "metadata": {},
      "outputs": [
       {
        "name": "stdout",
        "output_type": "stream",
        "text": [
         "+--------------------+------------+\n",
         "|           Munic�pio|qtd_aprovada|\n",
         "+--------------------+------------+\n",
         "|  250010 �gua Branca|        2296|\n",
         "|250030 Alagoa Grande|        5796|\n",
         "|  250040 Alagoa Nova|       14850|\n",
         "|    250050 Alagoinha|        2610|\n",
         "|     250053 Alcantil|        1086|\n",
         "|250057 Algod�o de...|         941|\n",
         "|     250060 Alhandra|        4366|\n",
         "|       250073 Amparo|         110|\n",
         "|    250077 Aparecida|         124|\n",
         "|      250080 Ara�agi|        8846|\n",
         "|        250090 Arara|        3227|\n",
         "|      250100 Araruna|        5393|\n",
         "|        250110 Areia|       20962|\n",
         "|250115 Areia de B...|          12|\n",
         "|       250120 Areial|        2128|\n",
         "|     250130 Aroeiras|       11566|\n",
         "|     250135 Assun��o|         153|\n",
         "|250140 Ba�a da Tr...|        3901|\n",
         "|   250150 Bananeiras|        3189|\n",
         "|      250153 Bara�na|         667|\n",
         "+--------------------+------------+\n",
         "only showing top 20 rows\n",
         "\n"
        ]
       }
      ],
      "source": [
       "df_atendimentos_amb_2022_01.show()"
      ]
     },
     {
      "attachments": {},
      "cell_type": "markdown",
      "metadata": {},
      "source": [
       "### Empenhos Saúde"
      ]
     },
     {
      "cell_type": "code",
      "execution_count": 5,
      "metadata": {},
      "outputs": [],
      "source": [
       "with open(r\"tables\\Empenhos.sql\") as f:\n",
       "    query_empenhos_2022 = f.read()\n",
       "\n",
       "with engine.begin() as conn:\n",
       "    result = conn.execute(text(query_empenhos_2022))\n",
       "    rows_empenhos_2022 = []\n",
       "    for r in result:\n",
       "        rows_empenhos_2022.append(list(r))\n",
       "\n",
       "for i in range(len(rows_empenhos_2022)):\n",
       "    rows_empenhos_2022[i][-1] = float(rows_empenhos_2022[i][-1])\n"
      ]
     },
     {
      "cell_type": "code",
      "execution_count": 6,
      "metadata": {},
      "outputs": [],
      "source": [
       "schema_empenhos = StructType([\n",
       "    StructField(name=\"Mês/Ano\", dataType=StringType(), nullable=False),\n",
       "    StructField(name=\"cd_ibge\", dataType=StringType(), nullable=False),\n",
       "    StructField(name=\"no_Municipio\", dataType=StringType(), nullable=False),\n",
       "    StructField(name=\"vl_empenhos_saude\", dataType=FloatType(), nullable=False)\n",
       "])"
      ]
     },
     {
      "cell_type": "code",
      "execution_count": 7,
      "metadata": {},
      "outputs": [
       {
        "name": "stdout",
        "output_type": "stream",
        "text": [
         "Schema:\n",
         "root\n",
         " |-- Mês/Ano: string (nullable = false)\n",
         " |-- cd_ibge: string (nullable = false)\n",
         " |-- no_Municipio: string (nullable = false)\n",
         " |-- vl_empenhos_saude: float (nullable = false)\n",
         "\n",
         "Rows: 2676\n",
         "Columns: 4\n",
         "\n",
         "Null values per column:\n",
         "+-------+-------+------------+-----------------+\n",
         "|Mês/Ano|cd_ibge|no_Municipio|vl_empenhos_saude|\n",
         "+-------+-------+------------+-----------------+\n",
         "|      0|      0|           0|                0|\n",
         "+-------+-------+------------+-----------------+\n",
         "\n"
        ]
       }
      ],
      "source": [
       "df_empenhos_2022 = spark.createDataFrame(data=rows_empenhos_2022, schema=schema_empenhos)\n",
       "print(\"Schema:\")\n",
       "df_empenhos_2022.printSchema()\n",
       "\n",
       "print(f\"Rows: {df_empenhos_2022.count()}\\nColumns: {len(df_empenhos_2022.columns)}\\n\")\n",
       "\n",
       "print(\"Null values per column:\")\n",
       "df_empenhos_2022.select([count(when(isnan(c) | col(c).isNull(), c)).alias(c) for c in df_empenhos_2022.columns]).show()"
      ]
     },
     {
      "cell_type": "code",
      "execution_count": 8,
      "metadata": {},
      "outputs": [
       {
        "name": "stdout",
        "output_type": "stream",
        "text": [
         "+-------+-------+------------+-----------------+\n",
         "|Mês/Ano|cd_ibge|no_Municipio|vl_empenhos_saude|\n",
         "+-------+-------+------------+-----------------+\n",
         "|01/2022| 250010| Agua Branca|        421441.12|\n",
         "|02/2022| 250010| Agua Branca|        778324.94|\n",
         "|03/2022| 250010| Agua Branca|        1129195.0|\n",
         "|04/2022| 250010| Agua Branca|        683457.56|\n",
         "|05/2022| 250010| Agua Branca|        1093227.4|\n",
         "|06/2022| 250010| Agua Branca|        923915.44|\n",
         "|07/2022| 250010| Agua Branca|         956457.2|\n",
         "|08/2022| 250010| Agua Branca|        1010722.6|\n",
         "|09/2022| 250010| Agua Branca|        908292.56|\n",
         "|10/2022| 250010| Agua Branca|         867565.5|\n",
         "|11/2022| 250010| Agua Branca|        1042141.3|\n",
         "|12/2022| 250010| Agua Branca|         909351.2|\n",
         "|01/2022| 250020|      Aguiar|        267563.25|\n",
         "|02/2022| 250020|      Aguiar|         595630.8|\n",
         "|03/2022| 250020|      Aguiar|         634644.8|\n",
         "|04/2022| 250020|      Aguiar|        526592.44|\n",
         "|05/2022| 250020|      Aguiar|        646825.75|\n",
         "|06/2022| 250020|      Aguiar|         536893.5|\n",
         "|07/2022| 250020|      Aguiar|         674330.3|\n",
         "|08/2022| 250020|      Aguiar|         780060.9|\n",
         "+-------+-------+------------+-----------------+\n",
         "only showing top 20 rows\n",
         "\n"
        ]
       }
      ],
      "source": [
       "df_empenhos_2022.show()"
      ]
     },
     {
      "attachments": {},
      "cell_type": "markdown",
      "metadata": {},
      "source": [
       "## Atendimento_Convênio"
      ]
     },
     {
      "cell_type": "code",
      "execution_count": 9,
      "metadata": {},
      "outputs": [
       {
        "name": "stdout",
        "output_type": "stream",
        "text": [
         "Schema:\n",
         "root\n",
         " |-- CO_UNIDADE: string (nullable = true)\n",
         " |-- CO_ATENDIMENTO_PRESTADO: integer (nullable = true)\n",
         " |-- CO_CONVENIO: integer (nullable = true)\n",
         " |-- CO_USUARIO: string (nullable = true)\n",
         " |-- TO_CHAR(DT_ATUALIZACAO,'DD/MM/YYYY'): string (nullable = true)\n",
         "\n",
         "Rows: 815917\n",
         "Columns: 5\n",
         "\n",
         "Null values per column:\n",
         "+----------+-----------------------+-----------+----------+------------------------------------+-------------------------------------------+\n",
         "|CO_UNIDADE|CO_ATENDIMENTO_PRESTADO|CO_CONVENIO|CO_USUARIO|TO_CHAR(DT_ATUALIZACAO,'DD/MM/YYYY')|TO_CHAR(DT_ATUALIZACAO_ORIGEM,'DD/MM/YYYY')|\n",
         "+----------+-----------------------+-----------+----------+------------------------------------+-------------------------------------------+\n",
         "|         0|                      0|          0|      5002|                                 143|                                     815917|\n",
         "+----------+-----------------------+-----------+----------+------------------------------------+-------------------------------------------+\n",
         "\n"
        ]
       }
      ],
      "source": [
       "df_atend_conv_2022_01 = read_and_analyse_df(r\"tables\\2022\\01\\rlEstabAtendPrestConv202201.csv\", delimiter=\";\")"
      ]
     },
     {
      "cell_type": "code",
      "execution_count": 10,
      "metadata": {},
      "outputs": [
       {
        "name": "stdout",
        "output_type": "stream",
        "text": [
         "+-------------+-----------------------+-----------+-----------+------------------------------------+\n",
         "|   CO_UNIDADE|CO_ATENDIMENTO_PRESTADO|CO_CONVENIO| CO_USUARIO|TO_CHAR(DT_ATUALIZACAO,'DD/MM/YYYY')|\n",
         "+-------------+-----------------------+-----------+-----------+------------------------------------+\n",
         "|2501900621986|                      3|          1|      SCNES|                          22/03/2021|\n",
         "|4202700613495|                      2|          1|      SAUDE|                          19/04/2021|\n",
         "|4202700613495|                      3|          1|      SAUDE|                          19/04/2021|\n",
         "|4202700613495|                      4|          1|      SAUDE|                          19/04/2021|\n",
         "|4202700613495|                      6|          1|      SAUDE|                          19/04/2021|\n",
         "|4305200650641|                      2|          1|     DANIEL|                          29/03/2021|\n",
         "|4309109847294|                      2|          1|      SAUDE|                          22/07/2021|\n",
         "|5107880665371|                      2|          1|      SAUDE|                          28/06/2021|\n",
         "|5107880665371|                      5|          1|      SAUDE|                          28/06/2021|\n",
         "|2101600671703|                      2|          1|      BARRA|                          08/11/2021|\n",
         "|2610700671290|                      2|          1|     MARCOS|                          24/05/2021|\n",
         "|2803200674370|                      2|          1|      SAUDE|                          19/08/2021|\n",
         "|2803200674370|                      6|          1|      SAUDE|                          19/08/2021|\n",
         "|3101409417842|                      2|          1|      SAUDE|                          27/12/2021|\n",
         "|3118000684414|                      6|          1|     SECRAM|                          16/04/2021|\n",
         "|3138302142635|                      5|          1|ANA.CARLOTA|                          04/02/2022|\n",
         "|3138302142635|                      6|          1|ANA.CARLOTA|                          04/02/2022|\n",
         "|3138302142635|                      7|          1|ANA.CARLOTA|                          04/02/2022|\n",
         "|3147000680672|                      2|          1|FATURAMENTO|                          12/04/2021|\n",
         "|3303700694428|                      2|          1|      SCNES|                          19/04/2021|\n",
         "+-------------+-----------------------+-----------+-----------+------------------------------------+\n",
         "only showing top 20 rows\n",
         "\n"
        ]
       }
      ],
      "source": [
       "df_atend_conv_2022_01.show()"
      ]
     },
     {
      "attachments": {},
      "cell_type": "markdown",
      "metadata": {},
      "source": [
       "### Atendimento"
      ]
     },
     {
      "cell_type": "code",
      "execution_count": 11,
      "metadata": {},
      "outputs": [
       {
        "name": "stdout",
        "output_type": "stream",
        "text": [
         "Schema:\n",
         "root\n",
         " |-- CO_ATENDIMENTO_PRESTADO: integer (nullable = true)\n",
         " |-- DS_ATENDIMENTO_PRESTADO: string (nullable = true)\n",
         "\n",
         "Rows: 7\n",
         "Columns: 2\n",
         "\n",
         "Null values per column:\n",
         "+-----------------------+-----------------------+\n",
         "|CO_ATENDIMENTO_PRESTADO|DS_ATENDIMENTO_PRESTADO|\n",
         "+-----------------------+-----------------------+\n",
         "|                      0|                      0|\n",
         "+-----------------------+-----------------------+\n",
         "\n"
        ]
       }
      ],
      "source": [
       "df_atend_prestado_2022_01 = read_and_analyse_df(r\"tables\\2022\\01\\tbAtendimentoPrestado202201.csv\", delimiter=\";\")"
      ]
     },
     {
      "cell_type": "code",
      "execution_count": 12,
      "metadata": {},
      "outputs": [
       {
        "name": "stdout",
        "output_type": "stream",
        "text": [
         "+-----------------------+-----------------------+\n",
         "|CO_ATENDIMENTO_PRESTADO|DS_ATENDIMENTO_PRESTADO|\n",
         "+-----------------------+-----------------------+\n",
         "|                      1|             INTERNACAO|\n",
         "|                      2|           AMBULATORIAL|\n",
         "|                      3|                   SADT|\n",
         "|                      4|               URGENCIA|\n",
         "|                      5|                 OUTROS|\n",
         "|                      6|    VIGILANCIA EM SAUDE|\n",
         "|                      7|              REGULACAO|\n",
         "+-----------------------+-----------------------+\n",
         "\n"
        ]
       }
      ],
      "source": [
       "df_atend_prestado_2022_01.show()"
      ]
     },
     {
      "attachments": {},
      "cell_type": "markdown",
      "metadata": {},
      "source": [
       "### Convênio"
      ]
     },
     {
      "cell_type": "code",
      "execution_count": 13,
      "metadata": {},
      "outputs": [
       {
        "name": "stdout",
        "output_type": "stream",
        "text": [
         "Schema:\n",
         "root\n",
         " |-- CO_CONVENIO: integer (nullable = true)\n",
         " |-- DS_CONVENIO: string (nullable = true)\n",
         "\n",
         "Rows: 7\n",
         "Columns: 2\n",
         "\n",
         "Null values per column:\n",
         "+-----------+-----------+\n",
         "|CO_CONVENIO|DS_CONVENIO|\n",
         "+-----------+-----------+\n",
         "|          0|          0|\n",
         "+-----------+-----------+\n",
         "\n"
        ]
       }
      ],
      "source": [
       "df_convenio_2022_01 = read_and_analyse_df(r\"tables\\2022\\01\\tbConvenio202201.csv\", delimiter=\";\")"
      ]
     },
     {
      "cell_type": "code",
      "execution_count": 14,
      "metadata": {},
      "outputs": [
       {
        "name": "stdout",
        "output_type": "stream",
        "text": [
         "+-----------+--------------------+\n",
         "|CO_CONVENIO|         DS_CONVENIO|\n",
         "+-----------+--------------------+\n",
         "|          1|                 SUS|\n",
         "|          2|          PARTICULAR|\n",
         "|          3|PLANO / SEGURO PR...|\n",
         "|          4|PLANO / SEGURO TE...|\n",
         "|          5|PLANO DE SAUDE PU...|\n",
         "|          6|PLANO DE SAUDE PR...|\n",
         "|          7|          GRATUIDADE|\n",
         "+-----------+--------------------+\n",
         "\n"
        ]
       }
      ],
      "source": [
       "df_convenio_2022_01.show()"
      ]
     },
     {
      "attachments": {},
      "cell_type": "markdown",
      "metadata": {},
      "source": [
       "## Carga Horária SUS"
      ]
     },
     {
      "cell_type": "code",
      "execution_count": 5,
      "metadata": {},
      "outputs": [
       {
        "name": "stdout",
        "output_type": "stream",
        "text": [
         "Schema:\n",
         "root\n",
         " |-- CO_UNIDADE: string (nullable = true)\n",
         " |-- CO_PROFISSIONAL_SUS: string (nullable = true)\n",
         " |-- CO_CBO: string (nullable = true)\n",
         " |-- TP_SUS_NAO_SUS: string (nullable = true)\n",
         " |-- IND_VINCULACAO: integer (nullable = true)\n",
         " |-- TP_TERCEIRO_SIH: string (nullable = true)\n",
         " |-- QT_CARGA_HORARIA_AMBULATORIAL: integer (nullable = true)\n",
         " |-- CO_CONSELHO_CLASSE: string (nullable = true)\n",
         " |-- NU_REGISTRO: string (nullable = true)\n",
         " |-- SG_UF_CRM: string (nullable = true)\n",
         " |-- TP_PRECEPTOR: integer (nullable = true)\n",
         " |-- TP_RESIDENTE: integer (nullable = true)\n",
         " |-- NU_CNPJ_DETALHAMENTO_VINCULO: string (nullable = true)\n",
         " |-- DT_ATUALIZACAO: string (nullable = true)\n",
         " |-- CO_USUARIO: string (nullable = true)\n",
         " |-- QT_CARGA_HORARIA_OUTROS: integer (nullable = true)\n",
         " |-- QT_CARGA_HOR_HOSP_SUS: integer (nullable = true)\n",
         "\n",
         "Rows: 5094745\n",
         "Columns: 17\n",
         "\n",
         "Null values per column:\n",
         "+----------+-------------------+------+--------------+--------------+---------------+-----------------------------+------------------+-----------+---------+------------+------------+----------------------------+--------------+----------+---------------------+-----------------------+---------------------+\n",
         "|CO_UNIDADE|CO_PROFISSIONAL_SUS|CO_CBO|TP_SUS_NAO_SUS|IND_VINCULACAO|TP_TERCEIRO_SIH|QT_CARGA_HORARIA_AMBULATORIAL|CO_CONSELHO_CLASSE|NU_REGISTRO|SG_UF_CRM|TP_PRECEPTOR|TP_RESIDENTE|NU_CNPJ_DETALHAMENTO_VINCULO|DT_ATUALIZACAO|CO_USUARIO|DT_ATUALIZACAO_ORIGEM|QT_CARGA_HORARIA_OUTROS|QT_CARGA_HOR_HOSP_SUS|\n",
         "+----------+-------------------+------+--------------+--------------+---------------+-----------------------------+------------------+-----------+---------+------------+------------+----------------------------+--------------+----------+---------------------+-----------------------+---------------------+\n",
         "|         0|                  0|     0|             0|             0|        2064073|                           76|           1417029|    1408543|  2088967|         290|         290|                     4003737|            34|        11|              5094745|                    140|                  234|\n",
         "+----------+-------------------+------+--------------+--------------+---------------+-----------------------------+------------------+-----------+---------+------------+------------+----------------------------+--------------+----------+---------------------+-----------------------+---------------------+\n",
         "\n"
        ]
       }
      ],
      "source": [
       "df_carga_hor_2022_01 = spark.read.format(\"csv\").options(header=\"True\", delimiter=\";\", inferSchema=\"True\").load(r\"tables\\2022\\01\\tbCargaHorariaSus202201.csv\")\n",
       "\n",
       "df_carga_hor_2022_01 = df_carga_hor_2022_01.withColumnRenamed(df_carga_hor_2022_01.columns[-5], \"DT_ATUALIZACAO\") \\\n",
       "                                        .withColumnRenamed(df_carga_hor_2022_01.columns[-3], \"DT_ATUALIZACAO_ORIGEM\") \\\n",
       "                                        .na.drop(\"all\")\n",
       "                                        # dropping rows with all values null\n",
       "\n",
       "df_null_count = df_carga_hor_2022_01.select([count(when(isnan(c) | col(c).isNull(), c)).alias(c) for c in df_carga_hor_2022_01.columns])\n",
       "                        # count when column is NaN or Null\n",
       "null_count = df_null_count.collect()[0].asDict()\n",
       "columns_to_drop = [c for c, n in null_count.items() if n >= df_carga_hor_2022_01.count()] # list of all columns with count of null values equal to the number of rows\n",
       "df_carga_hor_2022_01 = df_carga_hor_2022_01.drop(*columns_to_drop) # drop all of those columns\n",
       "            # starred expression (*variable) will pass the list as arguments\n",
       "\n",
       "print(\"Schema:\")\n",
       "df_carga_hor_2022_01.printSchema()\n",
       "print(f\"Rows: {df_carga_hor_2022_01.count()}\\nColumns: {len(df_carga_hor_2022_01.columns)}\\n\")\n",
       "print(\"Null values per column:\")\n",
       "df_null_count.show()"
      ]
     },
     {
      "cell_type": "code",
      "execution_count": 6,
      "metadata": {},
      "outputs": [
       {
        "name": "stdout",
        "output_type": "stream",
        "text": [
         "+--------------------+-------------------+------+--------------+--------------+---------------+-----------------------------+------------------+-----------+---------+------------+------------+----------------------------+--------------+-----------+-----------------------+---------------------+\n",
         "|          CO_UNIDADE|CO_PROFISSIONAL_SUS|CO_CBO|TP_SUS_NAO_SUS|IND_VINCULACAO|TP_TERCEIRO_SIH|QT_CARGA_HORARIA_AMBULATORIAL|CO_CONSELHO_CLASSE|NU_REGISTRO|SG_UF_CRM|TP_PRECEPTOR|TP_RESIDENTE|NU_CNPJ_DETALHAMENTO_VINCULO|DT_ATUALIZACAO| CO_USUARIO|QT_CARGA_HORARIA_OUTROS|QT_CARGA_HOR_HOSP_SUS|\n",
         "+--------------------+-------------------+------+--------------+--------------+---------------+-----------------------------+------------------+-----------+---------+------------+------------+----------------------------+--------------+-----------+-----------------------+---------------------+\n",
         "|AP000000000000000...|   1EFFD0E1186062EE|515105|             S|         10000|              2|                            0|                99|       null|     null|        null|        null|                        null|    01/10/2001|     eneida|                     30|                 null|\n",
         "|AP000000000000000...|   E93ACAD355032651|515105|             S|         10000|              2|                            0|                99|       null|     null|        null|        null|                        null|    10/12/2001|     eneida|                     30|                 null|\n",
         "|AP000000000000000...|   9D7D13462EBC2D66|1999A1|             S|         10000|              2|                           40|                99|       null|     null|        null|        null|                        null|    31/10/2001|     eneida|                      0|                 null|\n",
         "|AP000000000000000...|   DEF8D0C3756B2772|1999A1|             S|         10000|              2|                           40|                99|       null|     null|        null|        null|                        null|    31/10/2001|     eneida|                      0|                 null|\n",
         "|BA000029148020000...|   E56CDAC1B958BFD0|223415|             S|         10000|              2|                           48|                69|       1459|     null|        null|        null|                        null|    25/09/2001|   carlinda|                   null|                 null|\n",
         "|BA000029148020000...|   C8194366F5391334|223415|             S|         10000|              2|                           48|                69|       1629|     null|        null|        null|                        null|    25/09/2001|   carlinda|                   null|                 null|\n",
         "|BA000029148020000...|   372D1FBF15EB1661|324210|             S|         10000|              2|                           48|                99|       null|     null|        null|        null|                        null|    25/09/2001|   carlinda|                   null|                 null|\n",
         "|BA000029148020000...|   FC6976A28BA305CD|324210|             S|         10000|              2|                           48|                99|       null|     null|        null|        null|                        null|    25/09/2001|   carlinda|                   null|                 null|\n",
         "|BA000029148020000...|   46CA245347F592AB|223415|             S|         10000|              2|                           48|                99|       1655|     null|        null|        null|                        null|    25/09/2001|   carlinda|                   null|                 null|\n",
         "|BA000029148020000...|   67A69EB2A0A7D21F|324210|             S|         10000|              2|                           48|                99|       null|     null|        null|        null|                        null|    25/09/2001|   carlinda|                   null|                 null|\n",
         "|BA000029148020000...|   4B9101A88F718691|324210|             S|         10000|              2|                           48|                99|       null|     null|        null|        null|                        null|    25/09/2001|   carlinda|                   null|                 null|\n",
         "|BA000029148020000...|   EDA44031460BCAF1|223415|             S|         20000|              2|                           48|                99|       null|     null|        null|        null|                        null|    13/10/2001|   carlinda|                   null|                 null|\n",
         "|BA000029148020000...|   5C848666216C72B3|324210|             S|         10000|              2|                           48|                99|       null|     null|        null|        null|                        null|    25/09/2001|   carlinda|                   null|                 null|\n",
         "|BA000029148020000...|   B04AAB808CBA473D|324210|             S|         10000|              2|                           48|                99|       null|     null|        null|        null|                        null|    13/10/2001|   carlinda|                   null|                 null|\n",
         "|CE000023129000000...|   2851DB373DB294A0|322250|             S|         10000|              2|                           40|                99|       null|     null|        null|        null|                        null|    27/08/2001|    georgia|                   null|                 null|\n",
         "|CE000023129000000...|   0B6C6813432D9673|225142|             S|         10000|              2|                            8|                71|       6992|     null|        null|        null|                        null|    21/08/2001|    georgia|                   null|                 null|\n",
         "|CE000023129000000...|   6D547189EB3625C2|322250|             S|         10000|              2|                           40|                99|       null|     null|        null|        null|                        null|    27/08/2001|    georgia|                   null|                 null|\n",
         "|CE000023129000000...|   E32ED95AE6A0F47F|223565|             S|         10000|              2|                           40|                66|      34530|     null|        null|        null|                        null|    21/08/2001|    georgia|                   null|                 null|\n",
         "|CE000023129000000...|   DD2DC547B7E6A7BC|322250|             S|         10000|              2|                           40|                99|       null|     null|        null|        null|                        null|    21/08/2001|    georgia|                   null|                 null|\n",
         "|ES000000000000000...|   43534F9361C2788C|515105|             S|         10000|              2|                           40|                99|       null|     null|        null|        null|                        null|    03/12/2001|luciano g b|                   null|                 null|\n",
         "+--------------------+-------------------+------+--------------+--------------+---------------+-----------------------------+------------------+-----------+---------+------------+------------+----------------------------+--------------+-----------+-----------------------+---------------------+\n",
         "only showing top 20 rows\n",
         "\n"
        ]
       }
      ],
      "source": [
       "df_carga_hor_2022_01.show()"
      ]
     },
     {
      "attachments": {},
      "cell_type": "markdown",
      "metadata": {},
      "source": [
       "### Profissional SUS"
      ]
     },
     {
      "cell_type": "code",
      "execution_count": 7,
      "metadata": {},
      "outputs": [
       {
        "name": "stdout",
        "output_type": "stream",
        "text": [
         "Schema:\n",
         "root\n",
         " |-- CO_PROFISSIONAL_SUS: string (nullable = true)\n",
         " |-- 'CO_CPF': string (nullable = true)\n",
         " |-- NO_PROFISSIONAL: string (nullable = true)\n",
         " |-- CO_CNS: long (nullable = true)\n",
         " |-- TO_CHAR(DT_ATUALIZACAO,'DD/MM/YYYY'): string (nullable = true)\n",
         " |-- CO_USUARIO: string (nullable = true)\n",
         " |-- ST_NMPROF_CADSUS: string (nullable = true)\n",
         " |-- CO_NACIONALIDADE: integer (nullable = true)\n",
         " |-- CO_SEQ_INCLUSAO: integer (nullable = true)\n",
         " |-- TO_CHAR(DT_ATUALIZACAO_ORIGEM,'DD/MM/YYYY'): string (nullable = true)\n",
         "\n",
         "Rows: 5725003\n",
         "Columns: 10\n",
         "\n",
         "Null values per column:\n",
         "+-------------------+--------+---------------+------+------------------------------------+----------+----------------+----------------+---------------+-------------------------------------------+\n",
         "|CO_PROFISSIONAL_SUS|'CO_CPF'|NO_PROFISSIONAL|CO_CNS|TO_CHAR(DT_ATUALIZACAO,'DD/MM/YYYY')|CO_USUARIO|ST_NMPROF_CADSUS|CO_NACIONALIDADE|CO_SEQ_INCLUSAO|TO_CHAR(DT_ATUALIZACAO_ORIGEM,'DD/MM/YYYY')|\n",
         "+-------------------+--------+---------------+------+------------------------------------+----------+----------------+----------------+---------------+-------------------------------------------+\n",
         "|                  0|       0|             32|   791|                                3067|      6609|         3382243|         5716962|        4124499|                                    5201097|\n",
         "+-------------------+--------+---------------+------+------------------------------------+----------+----------------+----------------+---------------+-------------------------------------------+\n",
         "\n"
        ]
       }
      ],
      "source": [
       "df_profissional_2022_01 = read_and_analyse_df(r\"tables\\2022\\01\\tbDadosProfissionalSus202201.csv\", delimiter=\";\")"
      ]
     },
     {
      "cell_type": "code",
      "execution_count": 8,
      "metadata": {},
      "outputs": [
       {
        "name": "stdout",
        "output_type": "stream",
        "text": [
         "+-------------------+--------+--------------------+---------------+------------------------------------+-----------+----------------+----------------+---------------+-------------------------------------------+\n",
         "|CO_PROFISSIONAL_SUS|'CO_CPF'|     NO_PROFISSIONAL|         CO_CNS|TO_CHAR(DT_ATUALIZACAO,'DD/MM/YYYY')| CO_USUARIO|ST_NMPROF_CADSUS|CO_NACIONALIDADE|CO_SEQ_INCLUSAO|TO_CHAR(DT_ATUALIZACAO_ORIGEM,'DD/MM/YYYY')|\n",
         "+-------------------+--------+--------------------+---------------+------------------------------------+-----------+----------------+----------------+---------------+-------------------------------------------+\n",
         "|   7F388F50D27949AB|  CO_CPF|EDUARDO ROSA DE O...|706301181314780|                          28/07/2021|     HDLAPA|            null|            null|           null|                                       null|\n",
         "|   FFC20DB5BED8BE78|  CO_CPF|KAROLINE APARECID...|705006482591359|                          17/03/2020|      BIGUA|            null|            null|           null|                                       null|\n",
         "|   A59F39B0DC97657B|  CO_CPF|DAYSE DA SILVA MOURA|704504369262316|                          10/09/2020|    EDUARDO|            null|            null|           null|                                       null|\n",
         "|   80BAE570368CE1D2|  CO_CPF|WEBSON DE ARAUJO ...|707403028396473|                          11/03/2016|     CARLOS|            null|            null|           null|                                       null|\n",
         "|   5F452B85C50F9196|  CO_CPF|EDER JORGE DE MEL...|703403215395318|                          11/03/2016|     CARLOS|            null|            null|           null|                                       null|\n",
         "|   CA774EAF0C9E2D6E|  CO_CPF|LEANDRO DE LIRA B...|703602088328134|                          11/03/2016|     CARLOS|            null|            null|           null|                                       null|\n",
         "|   4D12616EBA5884C5|  CO_CPF|SANDRA CARVALHO D...|980016000051056|                          30/07/2014|      SONIA|            null|            null|         220162|                                 12/03/2002|\n",
         "|   CA0F63FB58A29FC0|  CO_CPF|MURILO PEREIRA DE...|980016000051064|                          17/03/2015|  COOPANEST|                |            null|         220164|                                 12/03/2002|\n",
         "|   D10D14A146B54504|  CO_CPF|LINDIANE DA SILVA...|126507921260018|                          06/04/2015|    HJXXIII|                |            null|         220166|                                 12/03/2002|\n",
         "|   091D78BA8B810340|  CO_CPF|ROSANGELA ANDREIA...|980016283466422|                          16/06/2016| CATIMULLER|            null|            null|           null|                                       null|\n",
         "|   2C21126B18FC2D00|  CO_CPF|CRISTIANE GONCALV...|980016283466457|                          11/11/2015|      SAUDE|                |            null|           null|                                       null|\n",
         "|   BFEABB36007A7286|  CO_CPF|LISIANA MARTINEZ ...|980016283466473|                          27/01/2017|SAUDEACEGUA|                |            null|           null|                                       null|\n",
         "|   21C76B0C00982254|  CO_CPF|ADEMILSON CARDOSO...|980016283468247|                          18/08/2009|  DIGITADOR|            null|            null|           null|                                       null|\n",
         "|   CD84B642237EF7CE|  CO_CPF|ALINE PERES DE ME...|980016283468298|                          27/11/2015|     JANETE|                |            null|           null|                                       null|\n",
         "|   EF79E4E2675BD4BB|  CO_CPF|ELIZETE FERREIRA ...|980016283468395|                          06/01/2021|      SAUDE|                |            null|           null|                                       null|\n",
         "|   E6F074F6A0F08DBB|  CO_CPF|  LILIA ALVES FLEURY|980016283468573|                          26/06/2017|      SAUDE|                |            null|           null|                                       null|\n",
         "|   1CA30A0E600431E4|  CO_CPF|MARIA APARECISA D...|980016283469472|                          26/08/2013|  DIGITADOR|            null|            null|           null|                                       null|\n",
         "|   C042D9AB8823CBFA|  CO_CPF|MARLI DE SOUZA KA...|980016283475049|                          30/06/2021|      SCNES|                |            null|           null|                                       null|\n",
         "|   2543FB90DA624288|  CO_CPF|BONIFACIO ISAIAS ...|980016283476177|                          01/12/2008|       NERO|            null|            null|           null|                                       null|\n",
         "|   B3A8280C652FB56C|  CO_CPF|NILCE MOREIRA FAR...|980016283477572|                          22/03/2021|      SAUDE|                |            null|           null|                                       null|\n",
         "+-------------------+--------+--------------------+---------------+------------------------------------+-----------+----------------+----------------+---------------+-------------------------------------------+\n",
         "only showing top 20 rows\n",
         "\n"
        ]
       }
      ],
      "source": [
       "df_profissional_2022_01.show()"
      ]
     },
     {
      "attachments": {},
      "cell_type": "markdown",
      "metadata": {},
      "source": [
       "### Conselho Classe"
      ]
     },
     {
      "cell_type": "code",
      "execution_count": 9,
      "metadata": {},
      "outputs": [
       {
        "name": "stdout",
        "output_type": "stream",
        "text": [
         "Schema:\n",
         "root\n",
         " |-- CO_CONSELHO_CLASSE: integer (nullable = true)\n",
         " |-- DS_CONSELHO_CLASSE: string (nullable = true)\n",
         "\n",
         "Rows: 12\n",
         "Columns: 2\n",
         "\n",
         "Null values per column:\n",
         "+------------------+------------------+\n",
         "|CO_CONSELHO_CLASSE|DS_CONSELHO_CLASSE|\n",
         "+------------------+------------------+\n",
         "|                 0|                 0|\n",
         "+------------------+------------------+\n",
         "\n"
        ]
       }
      ],
      "source": [
       "df_cons_classe_2022_01 = read_and_analyse_df(r\"tables\\2022\\01\\tbConselhoClasse202201.csv\", delimiter=\";\")"
      ]
     },
     {
      "cell_type": "code",
      "execution_count": 10,
      "metadata": {},
      "outputs": [
       {
        "name": "stdout",
        "output_type": "stream",
        "text": [
         "+------------------+--------------------+\n",
         "|CO_CONSELHO_CLASSE|  DS_CONSELHO_CLASSE|\n",
         "+------------------+--------------------+\n",
         "|                 1|    CR ADMINISTRACAO|\n",
         "|                 2|CR ASSISTENTE SOCIAL|\n",
         "|                 3|  CR BIBLIOTECONOMIA|\n",
         "|                 4|    CR CONTABILIDADE|\n",
         "|                 5|       CR ENFERMAGEM|\n",
         "|                 6|CR ENGENHARIA, AG...|\n",
         "|                 7|      CR ESTATISTICA|\n",
         "|                 8|         CR FARMACIA|\n",
         "|                 9|CR FISIOTERAPIA E...|\n",
         "|                10|         CR MEDICINA|\n",
         "|                11|       CR PSICOLOGIA|\n",
         "|                12|                 OAB|\n",
         "+------------------+--------------------+\n",
         "\n"
        ]
       }
      ],
      "source": [
       "df_cons_classe_2022_01.show()"
      ]
     },
     {
      "attachments": {},
      "cell_type": "markdown",
      "metadata": {},
      "source": [
       "### Atividade Profissional"
      ]
     },
     {
      "cell_type": "code",
      "execution_count": 11,
      "metadata": {},
      "outputs": [
       {
        "name": "stdout",
        "output_type": "stream",
        "text": [
         "Schema:\n",
         "root\n",
         " |-- CO_CBO: string (nullable = true)\n",
         " |-- DS_ATIVIDADE_PROFISSIONAL: string (nullable = true)\n",
         " |-- TP_CBO_SAUDE: string (nullable = true)\n",
         " |-- ST_CBO_REGULAMENTADO: string (nullable = true)\n",
         "\n",
         "Rows: 2620\n",
         "Columns: 4\n",
         "\n",
         "Null values per column:\n",
         "+------+-------------------------+-----------------------------+------------+--------------------+-----------+\n",
         "|CO_CBO|DS_ATIVIDADE_PROFISSIONAL|TP_CLASSIFICACAO_PROFISSIONAL|TP_CBO_SAUDE|ST_CBO_REGULAMENTADO|NO_ANO_CMPT|\n",
         "+------+-------------------------+-----------------------------+------------+--------------------+-----------+\n",
         "|     0|                        0|                         2620|           0|                   9|       2620|\n",
         "+------+-------------------------+-----------------------------+------------+--------------------+-----------+\n",
         "\n"
        ]
       }
      ],
      "source": [
       "df_ativ_prof_2022_01 = read_and_analyse_df(r\"tables\\2022\\01\\tbAtividadeProfissional202201.csv\", delimiter=\";\")"
      ]
     },
     {
      "cell_type": "code",
      "execution_count": 12,
      "metadata": {},
      "outputs": [
       {
        "name": "stdout",
        "output_type": "stream",
        "text": [
         "+------+-------------------------+------------+--------------------+\n",
         "|CO_CBO|DS_ATIVIDADE_PROFISSIONAL|TP_CBO_SAUDE|ST_CBO_REGULAMENTADO|\n",
         "+------+-------------------------+------------+--------------------+\n",
         "|513435|     ATENDENTE DE LANC...|           N|                   N|\n",
         "|513440|                  BARISTA|           N|                   N|\n",
         "|513505|     AUXILIAR NOS SERV...|           N|                   N|\n",
         "|513605|            CHURRASQUEIRO|           N|                   N|\n",
         "|513610|                PIZZAIOLO|           N|                   N|\n",
         "|513615|                 SUSHIMAN|           N|                   N|\n",
         "|514105|             ASCENSORISTA|           N|                   N|\n",
         "|514110|                GARAGISTA|           N|                   N|\n",
         "|514115|                SACRISTAO|           N|                   N|\n",
         "|514120|      ZELADOR DE EDIFICIO|           N|                   N|\n",
         "|514205|     COLETOR DE LIXO D...|           N|                   N|\n",
         "|514215|          VARREDOR DE RUA|           N|                   N|\n",
         "|514225|     TRABALHADOR DE SE...|           N|                   N|\n",
         "|514230|     COLETOR DE RESIDU...|           N|                   N|\n",
         "|514305|       LIMPADOR DE VIDROS|           N|                   N|\n",
         "|514310|     AUXILIAR DE MANUT...|           N|                   N|\n",
         "|514315|     LIMPADOR DE FACHADAS|           N|                   N|\n",
         "|514320|                FAXINEIRO|           N|                   N|\n",
         "|514325|     TRABALHADOR DA MA...|           N|                   N|\n",
         "|514330|     LIMPADOR DE PISCINAS|           N|                   N|\n",
         "+------+-------------------------+------------+--------------------+\n",
         "only showing top 20 rows\n",
         "\n"
        ]
       }
      ],
      "source": [
       "df_ativ_prof_2022_01.show()"
      ]
     },
     {
      "attachments": {},
      "cell_type": "markdown",
      "metadata": {},
      "source": [
       "## Equipe Profissionais"
      ]
     },
     {
      "cell_type": "code",
      "execution_count": 13,
      "metadata": {},
      "outputs": [
       {
        "name": "stdout",
        "output_type": "stream",
        "text": [
         "Schema:\n",
         "root\n",
         " |-- CO_MUNICIPIO: integer (nullable = true)\n",
         " |-- CO_AREA: integer (nullable = true)\n",
         " |-- SEQ_EQUIPE: integer (nullable = true)\n",
         " |-- CO_UNIDADE: long (nullable = true)\n",
         " |-- TP_EQUIPE: integer (nullable = true)\n",
         " |-- CO_SUB_TIPO_EQUIPE: integer (nullable = true)\n",
         " |-- NO_REFERENCIA: string (nullable = true)\n",
         " |-- DT_ATIVACAO: string (nullable = true)\n",
         " |-- DT_DESATIVACAO: string (nullable = true)\n",
         " |-- TP_POP_ASSIST_QUILOMB: integer (nullable = true)\n",
         " |-- TP_POP_ASSIST_ASSENT: integer (nullable = true)\n",
         " |-- TP_POP_ASSIST_GERAL: integer (nullable = true)\n",
         " |-- TP_POP_ASSIST_ESCOLA: integer (nullable = true)\n",
         " |-- TP_POP_ASSIST_PRONASCI: integer (nullable = true)\n",
         " |-- TP_POP_ASSIST_INDIGENA: integer (nullable = true)\n",
         " |-- TP_POP_ASSIST_RIBEIRINHA: integer (nullable = true)\n",
         " |-- TP_POP_ASSIST_SITUACAO_RUA: integer (nullable = true)\n",
         " |-- TP_POP_ASSIST_PRIV_LIBERDADE: integer (nullable = true)\n",
         " |-- TP_POP_ASSIST_CONFLITO_LEI: integer (nullable = true)\n",
         " |-- TP_POP_ASSIST_ADOL_CONF_LEI: integer (nullable = true)\n",
         " |-- CO_CNES_UOM: integer (nullable = true)\n",
         " |-- NU_CH_AMB_UOM: integer (nullable = true)\n",
         " |-- CD_MOTIVO_DESATIV: integer (nullable = true)\n",
         " |-- CD_TP_DESATIV: integer (nullable = true)\n",
         " |-- CO_EQUIPE: integer (nullable = true)\n",
         " |-- TO_CHAR(DT_ATUALIZACAO,'DD/MM/YYYY'): string (nullable = true)\n",
         " |-- NO_USUARIO: string (nullable = true)\n",
         " |-- TO_CHAR(DT_ATUALIZACAO_ORIGEM,'DD/MM/YYYY'): string (nullable = true)\n",
         "\n",
         "Rows: 101940\n",
         "Columns: 28\n",
         "\n",
         "Null values per column:\n",
         "+------------+-------+----------+----------+---------+------------------+-------------+-----------+--------------+---------------------+--------------------+-------------------+--------------------+----------------------+----------------------+------------------------+--------------------------+----------------------------+--------------------------+---------------------------+-----------+-------------+-----------------+-------------+---------------------+-----------------+---------+------------------------------------+----------+-------------------------------------------+\n",
         "|CO_MUNICIPIO|CO_AREA|SEQ_EQUIPE|CO_UNIDADE|TP_EQUIPE|CO_SUB_TIPO_EQUIPE|NO_REFERENCIA|DT_ATIVACAO|DT_DESATIVACAO|TP_POP_ASSIST_QUILOMB|TP_POP_ASSIST_ASSENT|TP_POP_ASSIST_GERAL|TP_POP_ASSIST_ESCOLA|TP_POP_ASSIST_PRONASCI|TP_POP_ASSIST_INDIGENA|TP_POP_ASSIST_RIBEIRINHA|TP_POP_ASSIST_SITUACAO_RUA|TP_POP_ASSIST_PRIV_LIBERDADE|TP_POP_ASSIST_CONFLITO_LEI|TP_POP_ASSIST_ADOL_CONF_LEI|CO_CNES_UOM|NU_CH_AMB_UOM|CD_MOTIVO_DESATIV|CD_TP_DESATIV|CO_PROF_SUS_PRECEPTOR|CO_CNES_PRECEPTOR|CO_EQUIPE|TO_CHAR(DT_ATUALIZACAO,'DD/MM/YYYY')|NO_USUARIO|TO_CHAR(DT_ATUALIZACAO_ORIGEM,'DD/MM/YYYY')|\n",
         "+------------+-------+----------+----------+---------+------------------+-------------+-----------+--------------+---------------------+--------------------+-------------------+--------------------+----------------------+----------------------+------------------------+--------------------------+----------------------------+--------------------------+---------------------------+-----------+-------------+-----------------+-------------+---------------------+-----------------+---------+------------------------------------+----------+-------------------------------------------+\n",
         "|           0|      0|         0|         0|        0|            101794|            0|          0|         99417|                    0|                   0|                  0|                   3|                     2|                     3|                      19|                       152|                         291|                       291|                        347|     101749|           44|            99435|        99417|               101940|           101940|        0|                                   0|         0|                                         66|\n",
         "+------------+-------+----------+----------+---------+------------------+-------------+-----------+--------------+---------------------+--------------------+-------------------+--------------------+----------------------+----------------------+------------------------+--------------------------+----------------------------+--------------------------+---------------------------+-----------+-------------+-----------------+-------------+---------------------+-----------------+---------+------------------------------------+----------+-------------------------------------------+\n",
         "\n"
        ]
       }
      ],
      "source": [
       "df_equipe_2022_01 = read_and_analyse_df(r\"tables\\2022\\01\\tbEquipe202201.csv\", delimiter=\";\")"
      ]
     },
     {
      "cell_type": "code",
      "execution_count": 14,
      "metadata": {},
      "outputs": [
       {
        "name": "stdout",
        "output_type": "stream",
        "text": [
         "+------------+-------+----------+-------------+---------+------------------+--------------------+-----------+--------------+---------------------+--------------------+-------------------+--------------------+----------------------+----------------------+------------------------+--------------------------+----------------------------+--------------------------+---------------------------+-----------+-------------+-----------------+-------------+---------+------------------------------------+----------+-------------------------------------------+\n",
         "|CO_MUNICIPIO|CO_AREA|SEQ_EQUIPE|   CO_UNIDADE|TP_EQUIPE|CO_SUB_TIPO_EQUIPE|       NO_REFERENCIA|DT_ATIVACAO|DT_DESATIVACAO|TP_POP_ASSIST_QUILOMB|TP_POP_ASSIST_ASSENT|TP_POP_ASSIST_GERAL|TP_POP_ASSIST_ESCOLA|TP_POP_ASSIST_PRONASCI|TP_POP_ASSIST_INDIGENA|TP_POP_ASSIST_RIBEIRINHA|TP_POP_ASSIST_SITUACAO_RUA|TP_POP_ASSIST_PRIV_LIBERDADE|TP_POP_ASSIST_CONFLITO_LEI|TP_POP_ASSIST_ADOL_CONF_LEI|CO_CNES_UOM|NU_CH_AMB_UOM|CD_MOTIVO_DESATIV|CD_TP_DESATIV|CO_EQUIPE|TO_CHAR(DT_ATUALIZACAO,'DD/MM/YYYY')|NO_USUARIO|TO_CHAR(DT_ATUALIZACAO_ORIGEM,'DD/MM/YYYY')|\n",
         "+------------+-------+----------+-------------+---------+------------------+--------------------+-----------+--------------+---------------------+--------------------+-------------------+--------------------+----------------------+----------------------+------------------------+--------------------------+----------------------------+--------------------------+---------------------------+-----------+-------------+-----------------+-------------+---------+------------------------------------+----------+-------------------------------------------+\n",
         "|      320080|      1|   2085658|3200802445530|       71|              null|ESB VILA NOVA BAN...| 31/07/2020|          null|                    2|                   2|                  2|                   2|                     2|                     2|                       2|                         2|                           2|                         2|                          2|       null|            0|             null|         null|  2085658|                          04/02/2022|     SAUDE|                                 27/08/2020|\n",
         "|      260120|      1|   1963554|2601203148645|       71|              null|  ESB NELSON LUCIANO| 11/07/1994|          null|                    2|                   2|                  2|                   2|                     2|                     2|                       2|                         2|                           2|                         2|                          2|       null|            0|             null|         null|  1963554|                          01/09/2021|01/09/2021|                                 10/09/2020|\n",
         "|      150130|      6|     19399|1501303677311|       70|              null|         SANTA MARIA| 02/06/1992|          null|                    2|                   2|                  2|                   2|                     2|                     2|                       2|                         2|                           2|                         2|                          2|       null|            0|             null|         null|    19399|                          10/12/2021|10/12/2021|                                 06/09/2020|\n",
         "|      240430|      2|   1971727|2404304012909|       71|              null|EQUIPE SAUDE BUCA...| 01/05/2020|          null|                    2|                   2|                  2|                   2|                     2|                     2|                       2|                         2|                           2|                         2|                          2|       null|            0|             null|         null|  1971727|                          02/02/2021|02/02/2021|                                 12/10/2020|\n",
         "|      250720|      1|   1837044|2507202364069|       71|              null|       UBSF - III SB| 01/06/2019|          null|                    2|                   2|                  2|                   2|                     2|                     2|                       2|                         2|                           2|                         2|                          2|       null|            0|             null|         null|  1837044|                          11/01/2021|11/01/2021|                                 12/10/2020|\n",
         "|      250770|      1|   1995677|2507702342804|       71|              null|USB DO DISTRITO D...| 10/06/2020|          null|                    2|                   2|                  2|                   2|                     2|                     2|                       2|                         2|                           2|                         2|                          2|       null|            0|             null|         null|  1995677|                          18/08/2020|18/08/2020|                                 12/10/2020|\n",
         "|      320080|     14|    279471|3200802445530|       70|              null|   VILA NOVA BANANAL| 14/02/2019|          null|                    2|                   2|                  2|                   2|                     2|                     2|                       2|                         2|                           2|                         2|                          2|       null|            0|             null|         null|   279471|                          10/12/2021|10/12/2021|                                 27/08/2020|\n",
         "|      320410|      1|   1728067|3204105467683|       71|              null|US BUCAL JARDIM P...| 13/08/2007|          null|                    2|                   2|                  2|                   2|                     2|                     2|                       2|                         2|                           2|                         2|                          2|       null|            0|             null|         null|  1728067|                          10/08/2021|10/08/2021|                                 27/08/2020|\n",
         "|      150130|     38|   1673785|1501307762860|       70|              null|         JACAREQUARA| 07/12/2018|          null|                    2|                   2|                  2|                   2|                     2|                     2|                       2|                         2|                           2|                         2|                          2|       null|            0|             null|         null|  1673785|                          07/01/2022|    SEMUSB|                                 06/09/2020|\n",
         "|      320410|      2|    283916|3204105467683|       70|              null|US FAMILIA JARDIM...| 13/08/2007|          null|                    2|                   2|                  2|                   2|                     2|                     2|                       2|                         2|                           2|                         2|                          2|       null|            0|             null|         null|   283916|                          04/10/2021|04/10/2021|                                 27/08/2020|\n",
         "|      350400|      1|   1719386|3504002067374|       71|              null|ESFSB - PQ. UNIVE...| 01/09/1996|          null|                    2|                   2|                  2|                   2|                     2|                     2|                       2|                         2|                           2|                         2|                          2|       null|            0|             null|         null|  1719386|                          08/12/2020|08/12/2020|                                 27/08/2020|\n",
         "|      350400|    807|    319147|3504002067374|       70|              null|ESF PQ. UNIVERSIT...| 01/09/1996|          null|                    2|                   2|                  2|                   2|                     2|                     2|                       2|                         2|                           2|                         2|                          2|       null|            0|             null|         null|   319147|                          01/06/2020|01/06/2020|                                 27/08/2020|\n",
         "|      330455|      2|   1912593|3304559045023|       71|              null|   PARANAPIACABA ESB| 01/08/2016|          null|                    2|                   2|                  2|                   2|                     2|                     2|                       2|                         2|                           2|                         2|                          2|       null|            0|             null|         null|  1912593|                          22/11/2021|22/11/2021|                                 31/08/2020|\n",
         "|      150157|      5|     20699|1501572329344|       70|              null|SAO RAIMUNDO - ES...| 20/11/2007|          null|                    2|                   2|                  2|                   2|                     2|                     2|                       2|                         2|                           2|                         2|                          2|       null|            0|             null|         null|    20699|                          02/02/2022|    SESSMA|                                 06/09/2020|\n",
         "|      150270|     13|   1592106|1502702329050|       70|              null|PS COMUNIDADE SAN...| 03/11/2015|          null|                    2|                   2|                  2|                   2|                     2|                     2|                       2|                         2|                           2|                         2|                          2|       null|            0|             null|         null|  1592106|                          10/11/2020|10/11/2020|                                 06/09/2020|\n",
         "|      260120|      1|   1960156|2601207486243|       71|              null| ESB ALTO SAO MIGUEL| 21/05/2014|          null|                    2|                   2|                  2|                   2|                     2|                     2|                       2|                         2|                           2|                         2|                          2|       null|            0|             null|         null|  1960156|                          04/06/2020|04/06/2020|                                 10/09/2020|\n",
         "|      260120|     20|   1525298|2601207486243|       70|              null|UBSF - ALTO DO SA...| 21/05/2014|          null|                    2|                   2|                  2|                   2|                     2|                     2|                       2|                         2|                           2|                         2|                          2|       null|            0|             null|         null|  1525298|                          21/12/2021|21/12/2021|                                 10/09/2020|\n",
         "|      260120|      1|   1963449|2601205617553|       71|              null|ESB UNIVERSITARIO...| 10/12/2007|          null|                    2|                   2|                  2|                   2|                     2|                     2|                       2|                         2|                           2|                         2|                          2|       null|            0|             null|         null|  1963449|                          04/06/2020|04/06/2020|                                 10/09/2020|\n",
         "|      260130|      1|    135925|2601302630583|       70|              null|PSF I JOSE MARCOL...| 01/01/1997|          null|                    2|                   2|                  2|                   2|                     2|                     2|                       2|                         2|                           2|                         2|                          2|       null|            0|             null|         null|   135925|                          20/09/2021|20/09/2021|                                 10/09/2020|\n",
         "|      260160|      1|   1929062|2601602634457|       71|              null|             ESB IBO| 03/06/2020|          null|                    2|                   2|                  2|                   2|                     2|                     2|                       2|                         2|                           2|                         2|                          2|       null|            0|             null|         null|  1929062|                          10/08/2021|10/08/2021|                                 12/10/2020|\n",
         "+------------+-------+----------+-------------+---------+------------------+--------------------+-----------+--------------+---------------------+--------------------+-------------------+--------------------+----------------------+----------------------+------------------------+--------------------------+----------------------------+--------------------------+---------------------------+-----------+-------------+-----------------+-------------+---------+------------------------------------+----------+-------------------------------------------+\n",
         "only showing top 20 rows\n",
         "\n"
        ]
       }
      ],
      "source": [
       "df_equipe_2022_01.show()"
      ]
     },
     {
      "attachments": {},
      "cell_type": "markdown",
      "metadata": {},
      "source": [
       "### Tipo Equipe"
      ]
     },
     {
      "cell_type": "code",
      "execution_count": 15,
      "metadata": {},
      "outputs": [
       {
        "name": "stdout",
        "output_type": "stream",
        "text": [
         "Schema:\n",
         "root\n",
         " |-- TP_EQUIPE: integer (nullable = true)\n",
         " |-- DS_EQUIPE: string (nullable = true)\n",
         " |-- CO_GRUPO_EQUIPE: integer (nullable = true)\n",
         "\n",
         "Rows: 64\n",
         "Columns: 3\n",
         "\n",
         "Null values per column:\n",
         "+---------+---------+---------------+\n",
         "|TP_EQUIPE|DS_EQUIPE|CO_GRUPO_EQUIPE|\n",
         "+---------+---------+---------------+\n",
         "|        0|        0|              0|\n",
         "+---------+---------+---------------+\n",
         "\n"
        ]
       }
      ],
      "source": [
       "df_tipo_equipe_2022_01 = read_and_analyse_df(r\"tables\\2022\\01\\tbTipoEquipe202201.csv\", delimiter=\";\")"
      ]
     },
     {
      "cell_type": "code",
      "execution_count": 16,
      "metadata": {},
      "outputs": [
       {
        "name": "stdout",
        "output_type": "stream",
        "text": [
         "+---------+--------------------+---------------+\n",
         "|TP_EQUIPE|           DS_EQUIPE|CO_GRUPO_EQUIPE|\n",
         "+---------+--------------------+---------------+\n",
         "|       48|EESE - EQUIPE EXC...|             13|\n",
         "|       50|EABP1   - EQ ATEN...|             14|\n",
         "|       51|EABP1SM - EQ ATEN...|             14|\n",
         "|       52|EABP2   - EQ ATEN...|             14|\n",
         "|       53|EABP2SM - EQ ATEN...|             14|\n",
         "|       54|EABP3   - EQ ATEN...|             14|\n",
         "|       46|EMAD T2 - EQUIPE ...|             17|\n",
         "|       47|ECD - EQUIPE DE C...|             19|\n",
         "|       49|                 EAP|             12|\n",
         "|       58|eMAESM1 - EQ. MUL...|             15|\n",
         "|       59|eMAESM2 - EQ. MUL...|             15|\n",
         "|       60|eMAESM3 - EQ. MUL...|             15|\n",
         "|       70|ESF - EQUIPE DE S...|             20|\n",
         "|       71|ESB - EQUIPE DE S...|             21|\n",
         "|       72|ENASFAP - EQ DO N...|             22|\n",
         "|       73|ECR - EQUIPE DOS ...|             23|\n",
         "|       74|EAPP - EQUIPE DE ...|             24|\n",
         "|       75|EMAESM - EQUIPE M...|             25|\n",
         "|       76|EAP - EQUIPE DE A...|             26|\n",
         "|        1|ESF - EQUIPE DE S...|              1|\n",
         "+---------+--------------------+---------------+\n",
         "only showing top 20 rows\n",
         "\n"
        ]
       }
      ],
      "source": [
       "df_tipo_equipe_2022_01.show()"
      ]
     },
     {
      "attachments": {},
      "cell_type": "markdown",
      "metadata": {},
      "source": [
       "### Grupo Equipe"
      ]
     },
     {
      "cell_type": "code",
      "execution_count": 17,
      "metadata": {},
      "outputs": [
       {
        "name": "stdout",
        "output_type": "stream",
        "text": [
         "Schema:\n",
         "root\n",
         " |-- CO_GRUPO_EQUIPE: integer (nullable = true)\n",
         " |-- NO_GRUPO_EQUIPE: string (nullable = true)\n",
         "\n",
         "Rows: 26\n",
         "Columns: 2\n",
         "\n",
         "Null values per column:\n",
         "+---------------+---------------+\n",
         "|CO_GRUPO_EQUIPE|NO_GRUPO_EQUIPE|\n",
         "+---------------+---------------+\n",
         "|              0|              0|\n",
         "+---------------+---------------+\n",
         "\n"
        ]
       }
      ],
      "source": [
       "df_grupo_equipe_2022_01 = read_and_analyse_df(r\"tables\\2022\\01\\tbGrupoEquipe202201.csv\", delimiter=\";\")"
      ]
     },
     {
      "cell_type": "code",
      "execution_count": 18,
      "metadata": {},
      "outputs": [
       {
        "name": "stdout",
        "output_type": "stream",
        "text": [
         "+---------------+---------------+\n",
         "|CO_GRUPO_EQUIPE|NO_GRUPO_EQUIPE|\n",
         "+---------------+---------------+\n",
         "|             14|           EABP|\n",
         "|             12|            EAP|\n",
         "|             13|           EESE|\n",
         "|              1|            ESF|\n",
         "|              2|           EACS|\n",
         "|              3|           EPEN|\n",
         "|              4|           NASF|\n",
         "|              5|           EMSI|\n",
         "|              6|          ESFPR|\n",
         "|              7|           ESFF|\n",
         "|              8|            EAB|\n",
         "|              9|            EAD|\n",
         "|             10|            ECR|\n",
         "|             11|            ESB|\n",
         "|             15|         EMAESM|\n",
         "|             16|          EMSIN|\n",
         "|             17|          EMADN|\n",
         "|             18|          EMAPN|\n",
         "|             19|           ECDN|\n",
         "|             20|           ESFN|\n",
         "+---------------+---------------+\n",
         "only showing top 20 rows\n",
         "\n"
        ]
       }
      ],
      "source": [
       "df_grupo_equipe_2022_01.show()"
      ]
     },
     {
      "attachments": {},
      "cell_type": "markdown",
      "metadata": {},
      "source": [
       "## Atividade"
      ]
     },
     {
      "cell_type": "code",
      "execution_count": 19,
      "metadata": {},
      "outputs": [
       {
        "name": "stdout",
        "output_type": "stream",
        "text": [
         "Schema:\n",
         "root\n",
         " |-- CO_GRUPO_ATIVIDADE: integer (nullable = true)\n",
         " |-- CO_ATIVIDADE: integer (nullable = true)\n",
         " |-- DS_ATIVIDADE: string (nullable = true)\n",
         " |-- DS_CONCEITO_ATIVIDADE: string (nullable = true)\n",
         "\n",
         "Rows: 28\n",
         "Columns: 4\n",
         "\n",
         "Null values per column:\n",
         "+------------------+------------+------------+---------------------+\n",
         "|CO_GRUPO_ATIVIDADE|CO_ATIVIDADE|DS_ATIVIDADE|DS_CONCEITO_ATIVIDADE|\n",
         "+------------------+------------+------------+---------------------+\n",
         "|                 0|           0|           0|                    0|\n",
         "+------------------+------------+------------+---------------------+\n",
         "\n"
        ]
       }
      ],
      "source": [
       "df_atividade_2022_01 = read_and_analyse_df(r\"tables\\2022\\01\\tbAtividade202201.csv\", delimiter=\";\")"
      ]
     },
     {
      "cell_type": "code",
      "execution_count": 20,
      "metadata": {},
      "outputs": [
       {
        "name": "stdout",
        "output_type": "stream",
        "text": [
         "+------------------+------------+--------------------+---------------------+\n",
         "|CO_GRUPO_ATIVIDADE|CO_ATIVIDADE|        DS_ATIVIDADE|DS_CONCEITO_ATIVIDADE|\n",
         "+------------------+------------+--------------------+---------------------+\n",
         "|                 2|          19|ANALISES LABORATO...| Ações e serviços ...|\n",
         "|                 2|          20|VIGILANCIA EM SAU...| Ações e serviços ...|\n",
         "|                 2|          21|ESCLARECIMENTO DA...| Ações e serviços ...|\n",
         "|                 3|          22|       ADMINISTRACAO| Compreende os pro...|\n",
         "|                 3|          23|REGULACAO ASSISTE...| Compreende a orga...|\n",
         "|                 3|          24|LOGISTICA DE INSUMOS| Compreende o arma...|\n",
         "|                 3|          25|LOGISTICA DE ORGA...| Compreende as açõ...|\n",
         "|                 4|          26|       HOSPITALIDADE| Serviços que visa...|\n",
         "|                 4|          27|CONFECCAO DE ORTE...| Serviço de fabric...|\n",
         "|                 0|           0|       NAO SE APLICA|         Sem Conceito|\n",
         "|                 1|           1|CONSULTA AMBULATO...| Atendimento dispe...|\n",
         "|                 1|           2|   APOIO DIAGNOSTICO| Ações e serviços ...|\n",
         "|                 1|           3|  TERAPIAS ESPECIAIS| Atividades voltad...|\n",
         "|                 1|           4|        REABILITACAO| Conjunto de ações...|\n",
         "|                 1|           5|CONCESSAO, MANUTE...| As Órteses, Próte...|\n",
         "|                 1|           6|  ATENCAO DOMICILIAR| Ações e serviços ...|\n",
         "|                 1|           7|ASSISTENCIA A EME...| Cuidados destinad...|\n",
         "|                 1|           8|ENTREGA/DISPENSAC...| Conjunto de ações...|\n",
         "|                 1|           9|          INTERNACAO| Cuidados ou trata...|\n",
         "|                 1|          10|ASSISTENCIA INTER...| Conjunto de ações...|\n",
         "+------------------+------------+--------------------+---------------------+\n",
         "only showing top 20 rows\n",
         "\n"
        ]
       }
      ],
      "source": [
       "df_atividade_2022_01.show()"
      ]
     },
     {
      "attachments": {},
      "cell_type": "markdown",
      "metadata": {},
      "source": [
       "### Grupo Atividade"
      ]
     },
     {
      "cell_type": "code",
      "execution_count": 21,
      "metadata": {},
      "outputs": [
       {
        "name": "stdout",
        "output_type": "stream",
        "text": [
         "Schema:\n",
         "root\n",
         " |-- CO_GRUPO_ATIVIDADE: integer (nullable = true)\n",
         " |-- DS_GRUPO_ATIVIDADE: string (nullable = true)\n",
         "\n",
         "Rows: 5\n",
         "Columns: 2\n",
         "\n",
         "Null values per column:\n",
         "+------------------+------------------+\n",
         "|CO_GRUPO_ATIVIDADE|DS_GRUPO_ATIVIDADE|\n",
         "+------------------+------------------+\n",
         "|                 0|                 0|\n",
         "+------------------+------------------+\n",
         "\n"
        ]
       }
      ],
      "source": [
       "df_grupo_atividade_2022_01 = read_and_analyse_df(r\"tables\\2022\\01\\tbGrupoAtividade202201.csv\", delimiter=\";\")"
      ]
     },
     {
      "cell_type": "code",
      "execution_count": 22,
      "metadata": {},
      "outputs": [
       {
        "name": "stdout",
        "output_type": "stream",
        "text": [
         "+------------------+--------------------+\n",
         "|CO_GRUPO_ATIVIDADE|  DS_GRUPO_ATIVIDADE|\n",
         "+------------------+--------------------+\n",
         "|                 0|       NAO SE APLICA|\n",
         "|                 1| ASSISTENCIA A SAUDE|\n",
         "|                 2| VIGILANCIA EM SAUDE|\n",
         "|                 3|     GESTAO DA SAUDE|\n",
         "|                 4|OUTRAS ATIVIDADES...|\n",
         "+------------------+--------------------+\n",
         "\n"
        ]
       }
      ],
      "source": [
       "df_grupo_atividade_2022_01.show()"
      ]
     }
    ],
    "metadata": {
     "kernelspec": {
      "display_name": "Python 3",
      "language": "python",
      "name": "python3"
     },
     "language_info": {
      "codemirror_mode": {
       "name": "ipython",
       "version": 3
      },
      "file_extension": ".py",
      "mimetype": "text/x-python",
      "name": "python",
      "nbconvert_exporter": "python",
      "pygments_lexer": "ipython3",
      "version": "3.9.0"
     },
     "orig_nbformat": 4,
     "vscode": {
      "interpreter": {
       "hash": "81794d4967e6c3204c66dcd87b604927b115b27c00565d3d43f05ba2f3a2cb0d"
      }
     }
    },
    "nbformat": 4,
    "nbformat_minor": 2
   }