{
 "cells": [
  {
   "cell_type": "code",
   "execution_count": null,
   "metadata": {},
   "outputs": [],
   "source": [
    "from ftplib import FTP\n",
    "import traceback\n",
    "import sys\n",
    "import os\n",
    "import boto3\n",
    "\n",
    "BUCKET_NAME = \"files-cnes-datasus\"\n",
    "BASE_FILES_NAME = \"BASE_DE_DADOS_CNES\"\n",
    "SITE = \"ftp.datasus.gov.br\"\n",
    "FTP_FOLDER = \"cnes\""
   ]
  },
  {
   "cell_type": "code",
   "execution_count": null,
   "metadata": {},
   "outputs": [],
   "source": [
    "def print_error() -> None:\n",
    "    \"\"\"Print the error message and exit script.\"\"\"\n",
    "    traceback.print_exc()\n",
    "    print(\"Closing...\")\n",
    "    sys.exit()"
   ]
  },
  {
   "cell_type": "code",
   "execution_count": null,
   "metadata": {},
   "outputs": [],
   "source": [
    "file = \"PAPB2201.dbc\"\n",
    "ftp_folder = \"/dissemin/publicos/SIASUS/200801_/Dados\"\n",
    "with FTP(\"ftp.datasus.gov.br\") as ftp:\n",
    "    try:\n",
    "        # LOGIN\n",
    "        if ftp.login().startswith(\"230\"): # ftp.login() enter the connection and return a string with the response\n",
    "            print(\"Logged in.\\n\")\n",
    "        else:\n",
    "            print(\"Failed to log in.\")\n",
    "            sys.exit()\n",
    "\n",
    "        # GO TO 'cnes' DIRECTORY\n",
    "        if ftp.cwd(ftp_folder).startswith(\"250\"): # ftp.cwd() 'change working diretory' to cnes and return a string with the response\n",
    "            print(f\"Directory changed to {ftp_folder}.\\n\")\n",
    "        else:\n",
    "            print(\"Failed to change directory.\")\n",
    "            sys.exit()\n",
    "    except:\n",
    "        print_error()\n",
    "    with open(\"./\" + f\"{file}\", \"wb\") as f:\n",
    "        print(f\"Downloading {file}...\")\n",
    "        retCode = ftp.retrbinary(f\"RETR {file}\", f.write) # download the file and return a string with the response\n",
    "        if retCode.startswith(\"226\"):\n",
    "            print(f\"{file} downloaded.\\n\")\n",
    "        else:\n",
    "            print(f\"Error downloading {file}: {retCode}\")"
   ]
  },
  {
   "cell_type": "code",
   "execution_count": 10,
   "metadata": {},
   "outputs": [],
   "source": [
    "from io import TextIOWrapper, BufferedReader\n",
    "import csv"
   ]
  },
  {
   "cell_type": "code",
   "execution_count": null,
   "metadata": {},
   "outputs": [],
   "source": [
    "with open(\"PAPB2201.dbc\", \"rb\") as f:\n",
    "    r = csv.reader(TextIOWrapper(f, \"ISO-8859-1\"))\n",
    "    rows = [row for row in r]"
   ]
  },
  {
   "cell_type": "code",
   "execution_count": null,
   "metadata": {},
   "outputs": [],
   "source": [
    "with open(\"PAPB2201.dbc\", \"rb\") as f:\n",
    "    r = csv.reader(BufferedReader(f))\n",
    "    rows = [row for row in r]"
   ]
  },
  {
   "cell_type": "code",
   "execution_count": 53,
   "metadata": {},
   "outputs": [
    {
     "name": "stdout",
     "output_type": "stream",
     "text": [
      "<class 'can_decoder.dataframe.DataFrameGenericDecoder.DataFrameGenericDecoder'>\n"
     ]
    }
   ],
   "source": [
    "import can_decoder\n",
    "import pandas as pd\n",
    "df = pd.DataFrame\n",
    "\n",
    "dbc_path = \"PAPB2201.dbc\"\n",
    "\n",
    "db = can_decoder.load_dbc(dbc_path)\n",
    "df_decoder = can_decoder.DataFrameDecoder(db)\n",
    "print(type(df_decoder))"
   ]
  },
  {
   "cell_type": "code",
   "execution_count": null,
   "metadata": {},
   "outputs": [],
   "source": [
    "df_phys_1 = df_decoder.decode_frame(df)"
   ]
  }
 ],
 "metadata": {
  "kernelspec": {
   "display_name": "Python 3",
   "language": "python",
   "name": "python3"
  },
  "language_info": {
   "codemirror_mode": {
    "name": "ipython",
    "version": 3
   },
   "file_extension": ".py",
   "mimetype": "text/x-python",
   "name": "python",
   "nbconvert_exporter": "python",
   "pygments_lexer": "ipython3",
   "version": "3.10.10"
  },
  "orig_nbformat": 4
 },
 "nbformat": 4,
 "nbformat_minor": 2
}
