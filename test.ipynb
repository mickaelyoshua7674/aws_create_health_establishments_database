{
 "cells": [
  {
   "cell_type": "code",
   "execution_count": 4,
   "metadata": {},
   "outputs": [],
   "source": [
    "from helper_functions import *\n",
    "import os\n",
    "\n",
    "install_config_docker = \\\n",
    "\"\"\"\n",
    "sudo yum update -y && \n",
    "sudo yum install docker -y && \n",
    "sudo usermod -a -G docker ec2-user && \n",
    "sudo service docker start && \n",
    "sudo chkconfig docker on && \n",
    "sudo curl -L https://github.com/docker/compose/releases/latest/download/docker-compose-$(uname -s)-$(uname -m) -o /usr/local/bin/docker-compose && \n",
    "sudo chmod +x /usr/local/bin/docker-compose\n",
    "\"\"\"\n",
    "\n",
    "BUCKET_NAME = \"laos-datasus\"\n",
    "BUCKET_FOLDER_DBCFILES = \"siasus/dbcfiles/\"\n",
    "BUCKET_FOLDER_RAW_TABLES = \"siasus/raw_tables/\"\n",
    "\n",
    "s3_client = boto3.client(\"s3\")\n",
    "s3_resource = boto3.resource(\"s3\")\n"
   ]
  },
  {
   "cell_type": "code",
   "execution_count": 2,
   "metadata": {},
   "outputs": [
    {
     "name": "stdout",
     "output_type": "stream",
     "text": [
      "Getting list of files in S3 Bucket folder 'siasus/dbcfiles/'...\n",
      "Names collected.\n",
      "\n"
     ]
    }
   ],
   "source": [
    "# GET DBCFILES NAMES FROM BUCKET\n",
    "dbcfiles_names_bucket = get_files_names_bucket(s3_client, BUCKET_NAME, BUCKET_FOLDER_DBCFILES)\n",
    "file = dbcfiles_names_bucket[0]"
   ]
  },
  {
   "cell_type": "code",
   "execution_count": 3,
   "metadata": {},
   "outputs": [
    {
     "name": "stdout",
     "output_type": "stream",
     "text": [
      "Downloading PAPB1801.dbc...\n",
      "PAPB1801.dbc downloaded.\n",
      "\n"
     ]
    }
   ],
   "source": [
    "download_file_bucket(s3_client, BUCKET_NAME, file, BUCKET_FOLDER_DBCFILES)"
   ]
  },
  {
   "cell_type": "code",
   "execution_count": null,
   "metadata": {},
   "outputs": [],
   "source": [
    "os.system(install_config_docker)\n",
    "os.system(f\"DBC_FILE_PATH=./{file} CSV_FILE_PATH=./{file.split('.')[0]}.csv docker-compose up\")\n",
    "#os.system(\"set DBC_FILE_PATH=./dbc2csv/dbc_files/PAPB2201.dbc&& set CSV_FILE_PATH=./dbc2csv/csv_files/PAPB2201.csv&& docker compose up\")"
   ]
  },
  {
   "cell_type": "code",
   "execution_count": null,
   "metadata": {},
   "outputs": [],
   "source": [
    "upload_file_to_bucket(s3_resource, f\"{file.split('.')[0]}.csv\", BUCKET_NAME, BUCKET_FOLDER_RAW_TABLES)"
   ]
  },
  {
   "cell_type": "code",
   "execution_count": null,
   "metadata": {},
   "outputs": [],
   "source": [
    "os.remove(file)\n",
    "os.remove(f\"{file.split('.')[0]}.csv\")"
   ]
  },
  {
   "cell_type": "code",
   "execution_count": null,
   "metadata": {},
   "outputs": [],
   "source": [
    "os.system(install_config_docker)\n",
    "\n",
    "os.system(\"DBC_FILE_PATH=./PAPB1801.dbc CSV_FILE_PATH=./PAPB1801.csv docker-compose up\")\n",
    "#os.system(\"set DBC_FILE_PATH=./dbc2csv/dbc_files/PAPB2201.dbc&& set CSV_FILE_PATH=./dbc2csv/csv_files/PAPB2201.csv&& docker compose up\")"
   ]
  }
 ],
 "metadata": {
  "kernelspec": {
   "display_name": "Python 3",
   "language": "python",
   "name": "python3"
  },
  "language_info": {
   "codemirror_mode": {
    "name": "ipython",
    "version": 3
   },
   "file_extension": ".py",
   "mimetype": "text/x-python",
   "name": "python",
   "nbconvert_exporter": "python",
   "pygments_lexer": "ipython3",
   "version": "3.9.0"
  },
  "orig_nbformat": 4
 },
 "nbformat": 4,
 "nbformat_minor": 2
}
