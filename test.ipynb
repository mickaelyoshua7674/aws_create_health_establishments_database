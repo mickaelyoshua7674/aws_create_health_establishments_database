{
 "cells": [
  {
   "cell_type": "code",
   "execution_count": 41,
   "metadata": {},
   "outputs": [],
   "source": [
    "from helper_functions import *"
   ]
  },
  {
   "cell_type": "code",
   "execution_count": 42,
   "metadata": {},
   "outputs": [],
   "source": [
    "s3_client = boto3.client(\"s3\")\n",
    "ec2_client = boto3.client(\"ec2\")\n",
    "ssm_client = boto3.client(\"ssm\")\n",
    "\n",
    "BUCKET_NAME = \"laos-datasus\"\n",
    "BUCKET_FOLDER_DBCFILES = \"siasus/dbcfiles/\"\n",
    "BUCKET_FOLDER_RAW_TABLES = \"siasus/raw_tables/\""
   ]
  },
  {
   "cell_type": "code",
   "execution_count": null,
   "metadata": {},
   "outputs": [],
   "source": []
  },
  {
   "cell_type": "code",
   "execution_count": 43,
   "metadata": {},
   "outputs": [],
   "source": [
    "ec2_dbc2csv = ec2_client.describe_instances(Filters = [{\"Name\": \"tag:Name\", \"Values\": [\"dbc2csv\"]}])\n",
    "ec2_dbc2csv_id = ec2_dbc2csv[\"Reservations\"][0][\"Instances\"][0][\"InstanceId\"]"
   ]
  },
  {
   "cell_type": "code",
   "execution_count": null,
   "metadata": {},
   "outputs": [],
   "source": [
    "ec2_client.reboot_instances(InstanceIds=[ec2_dbc2csv_id])"
   ]
  },
  {
   "cell_type": "code",
   "execution_count": 44,
   "metadata": {},
   "outputs": [],
   "source": [
    "script = \\\n",
    "    \"sudo yum update -y && \" + \\\n",
    "    \"sudo yum install git -y && \" + \\\n",
    "    \"sudo yum install docker -y && \" + \\\n",
    "    \"sudo usermod -a -G docker ec2-user && \" + \\\n",
    "    \"sudo service docker start && \" + \\\n",
    "    \"sudo chkconfig docker on && \" + \\\n",
    "    \"sudo curl -L https://github.com/docker/compose/releases/latest/download/docker-compose-$(uname -s)-$(uname -m) -o /usr/local/bin/docker-compose && \" + \\\n",
    "    \"sudo chmod +x /usr/local/bin/docker-compose && \" + \\\n",
    "    \"sudo yum install python3-pip -y && \" + \\\n",
    "    \"pip install boto3 && \" + \\\n",
    "    \"git clone https://github.com/mickaelyoshua7674/aws_create_health_establishments_database.git && \" + \\\n",
    "    \"newgrp docker\""
   ]
  },
  {
   "cell_type": "code",
   "execution_count": 45,
   "metadata": {},
   "outputs": [
    {
     "name": "stdout",
     "output_type": "stream",
     "text": [
      "InProgress...\n",
      "Final status of command is Success.\n",
      "\n"
     ]
    }
   ],
   "source": [
    "# RUN SHELL SCRIPT\n",
    "response_send = ssm_client.send_command(\n",
    "    DocumentName =\"AWS-RunShellScript\",\n",
    "    Parameters = {\"commands\": [\"cd aws_create_health_establishments_database/dbc2csv/ && ls\"]},\n",
    "    InstanceIds = [ec2_dbc2csv_id]\n",
    ")\n",
    "\n",
    "# CHECK STATUS OF COMMAND\n",
    "response_status = ssm_client.get_command_invocation(\n",
    "    CommandId=response_send[\"Command\"][\"CommandId\"],\n",
    "    InstanceId=ec2_dbc2csv_id\n",
    ")\n",
    "status = response_status[\"Status\"]\n",
    "print(status + \"...\")\n",
    "\n",
    "while True:\n",
    "    response_status = ssm_client.get_command_invocation(\n",
    "        CommandId=response_send[\"Command\"][\"CommandId\"],\n",
    "        InstanceId=ec2_dbc2csv_id\n",
    "    )\n",
    "    new_status = response_status[\"Status\"]\n",
    "\n",
    "    if new_status in [\"Success\", \"Cancelled\", \"Failed\", \"TimedOut\"]: # if command ends\n",
    "        status = new_status\n",
    "        print(f\"Final status of command is {new_status}.\\n\")\n",
    "        break\n",
    "    elif status == new_status: # if is still the same status\n",
    "        pass\n",
    "    else: # if change the status but is not finished\n",
    "        status = new_status\n",
    "        print(status + \"...\")\n"
   ]
  },
  {
   "cell_type": "code",
   "execution_count": null,
   "metadata": {},
   "outputs": [],
   "source": []
  }
 ],
 "metadata": {
  "kernelspec": {
   "display_name": "Python 3",
   "language": "python",
   "name": "python3"
  },
  "language_info": {
   "codemirror_mode": {
    "name": "ipython",
    "version": 3
   },
   "file_extension": ".py",
   "mimetype": "text/x-python",
   "name": "python",
   "nbconvert_exporter": "python",
   "pygments_lexer": "ipython3",
   "version": "3.9.0"
  },
  "orig_nbformat": 4
 },
 "nbformat": 4,
 "nbformat_minor": 2
}
