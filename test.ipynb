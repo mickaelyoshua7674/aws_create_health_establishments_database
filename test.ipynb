{
 "cells": [
  {
   "cell_type": "code",
   "execution_count": null,
   "metadata": {},
   "outputs": [],
   "source": [
    "from helper_functions import *"
   ]
  },
  {
   "cell_type": "code",
   "execution_count": null,
   "metadata": {},
   "outputs": [],
   "source": [
    "import os\n",
    "\n",
    "BUCKET_NAME = \"laos-datasus\"\n",
    "SITE = \"ftp.datasus.gov.br\"\n",
    "\n",
    "FTP_FOLDER_SIASUS = \"/dissemin/publicos/SIASUS/200801_/Dados\"\n",
    "BUCKET_FOLDER_SIASUS_DBCFILES = \"siasus/dbcfiles/\"\n",
    "BASE_FILES_NAME_SIASUS = \"PAPB\"\n",
    "\n",
    "s3_client = boto3.client(\"s3\")\n",
    "s3_resource = boto3.resource(\"s3\")\n",
    "\n",
    "# GET SIASUS DBCFILES NAMES FROM FTP\n",
    "siasus_dbcfiles_names_ftp = get_files_names_ftp(SITE, FTP_FOLDER_SIASUS, BASE_FILES_NAME_SIASUS)\n",
    "\n",
    "# GET SIASUS DBCFILES NAMES FROM S3 BUCKET\n",
    "siasus_dbcfiles_names_bucket = get_files_names_bucket(s3_client, BUCKET_NAME, BUCKET_FOLDER_SIASUS_DBCFILES)\n",
    "\n",
    "download_file_from_ftp(SITE, FTP_FOLDER_SIASUS, siasus_dbcfiles_names_ftp[0])"
   ]
  }
 ],
 "metadata": {
  "kernelspec": {
   "display_name": "Python 3",
   "language": "python",
   "name": "python3"
  },
  "language_info": {
   "codemirror_mode": {
    "name": "ipython",
    "version": 3
   },
   "file_extension": ".py",
   "mimetype": "text/x-python",
   "name": "python",
   "nbconvert_exporter": "python",
   "pygments_lexer": "ipython3",
   "version": "3.10.10"
  },
  "orig_nbformat": 4
 },
 "nbformat": 4,
 "nbformat_minor": 2
}
