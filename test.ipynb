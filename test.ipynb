{
 "cells": [
  {
   "cell_type": "code",
   "execution_count": null,
   "metadata": {},
   "outputs": [],
   "source": [
    "from ftplib import FTP\n",
    "import traceback\n",
    "import sys\n",
    "import os\n",
    "import boto3"
   ]
  },
  {
   "cell_type": "code",
   "execution_count": null,
   "metadata": {},
   "outputs": [],
   "source": [
    "BUCKET_NAME = \"files-cnes-datasus\"\n",
    "BASE_FILES_NAME = \"BASE_DE_DADOS_CNES\"\n",
    "SITE = \"ftp.datasus.gov.br\"\n",
    "FTP_FOLDER = \"cnes\"\n",
    "\n",
    "s3_client = boto3.client(\"s3\")\n",
    "s3_resource = boto3.resource(\"s3\")"
   ]
  },
  {
   "cell_type": "code",
   "execution_count": null,
   "metadata": {},
   "outputs": [],
   "source": [
    "def print_error() -> None:\n",
    "    \"\"\"Print the error message and exit script.\"\"\"\n",
    "    traceback.print_exc()\n",
    "    print(\"Closing...\")\n",
    "    sys.exit()\n",
    "\n",
    "def get_list_names_zipfiles_bucket(s3_client: boto3.client, bucket: str) -> list[str]:\n",
    "    try:\n",
    "        print(\"Getting list of zipfiles in S3 Bucket...\")\n",
    "        response = s3_client.list_objects(Bucket=bucket)[\"Contents\"]\n",
    "        content_zipfiles = [k[\"Key\"] for k in response if k[\"Key\"].startswith(\"zipfiles/\")]\n",
    "        if len(content_zipfiles) == 1:\n",
    "            print(\"No zip files in Bucket folder 'zipfiles/'.\")\n",
    "            return []\n",
    "        else:\n",
    "            print(\"Names collected.\\n\")\n",
    "            return [item[len(\"zipfiles/\"):] for item in content_zipfiles][1:]\n",
    "    except:\n",
    "        print(\"Error getting names of zipfiles in Bucket.\")\n",
    "        print_error()\n",
    "    \n",
    "def download_zipfile(site: str, ftp_folder: str, zip_files_path: str, zipfiles_names_bucket: list[str], file: str) -> None:\n",
    "    \"\"\"Access the ftp connection, go to folder and download files with the base name passed as an argument.\"\"\"\n",
    "    with FTP(site) as ftp:\n",
    "        try:\n",
    "            # LOGIN\n",
    "            if ftp.login().startswith(\"230\"): # ftp.login() enter the connection and return a string with the response\n",
    "                print(\"Logged in.\\n\")\n",
    "            else:\n",
    "                print(\"Failed to log in.\")\n",
    "                sys.exit()\n",
    "\n",
    "            # GO TO 'cnes' DIRECTORY\n",
    "            if ftp.cwd(ftp_folder).startswith(\"250\"): # ftp.cwd() 'change working diretory' to cnes and return a string with the response\n",
    "                print(\"Directory changed to 'cnes'.\\n\")\n",
    "            else:\n",
    "                print(\"Failed to change directory.\")\n",
    "                sys.exit()\n",
    "        except:\n",
    "            print_error()\n",
    "\n",
    "        if file not in zipfiles_names_bucket: # if file isn't already on S3 Bucket folder\n",
    "            with open(zip_files_path + f\"{file}\", \"wb\") as f:\n",
    "                print(f\"Downloading {file}...\")\n",
    "                retCode = ftp.retrbinary(f\"RETR {file}\", f.write) # download the file and return a string with the response\n",
    "                if retCode.startswith(\"226\"):\n",
    "                    print(f\"{file} downloaded.\")\n",
    "                else:\n",
    "                    print(f\"Error downloading {file}: {retCode}\")\n",
    "\n",
    "def upload_zipfile(s3_resource: boto3.resource, filename: str, bucket: str, key: str) -> None:\n",
    "    \"\"\"Save local zipfile on S3 Bucket folder zipfiles/\"\"\"\n",
    "    try:\n",
    "        print(\"Uploading zipfile...\")\n",
    "        s3_resource.meta.client.upload_file(\n",
    "        Filename=filename,\n",
    "        Bucket=bucket,\n",
    "        Key=\"zipfiles/\" + key\n",
    "        )\n",
    "        print(\"Zipfiles uploaded.\\n\")\n",
    "    except:\n",
    "        print(\"Error uploading files.\")\n",
    "        print_error()"
   ]
  },
  {
   "cell_type": "code",
   "execution_count": null,
   "metadata": {},
   "outputs": [],
   "source": [
    "# GET ZIPFILES NAMES FROM FTP\n",
    "with FTP(\"ftp.datasus.gov.br\") as ftp:\n",
    "    try:\n",
    "        # LOGIN\n",
    "        if ftp.login().startswith(\"230\"): # ftp.login() enter the connection and return a string with the response\n",
    "            print(\"Logged in.\\n\")\n",
    "        else:\n",
    "            print(\"Failed to log in.\")\n",
    "            sys.exit()\n",
    "\n",
    "        # GO TO 'cnes' DIRECTORY\n",
    "        if ftp.cwd(\"cnes\").startswith(\"250\"): # ftp.cwd() 'change working diretory' to cnes and return a string with the response\n",
    "            print(\"Directory changed to 'cnes'.\\n\")\n",
    "        else:\n",
    "            print(\"Failed to change directory.\")\n",
    "            sys.exit()\n",
    "    except:\n",
    "        print_error()\n",
    "    try:\n",
    "        zipfiles_names_ftp = []\n",
    "        for file in ftp.nlst(): # ftp.nlst() return a list with all files name\n",
    "            if file.startswith(BASE_FILES_NAME): # if file isn't already on folder\n",
    "                zipfiles_names_ftp.append(file)\n",
    "        print(\"All zipfiles names collected from ftp server.\\n\")\n",
    "    except:\n",
    "        print_error()"
   ]
  },
  {
   "cell_type": "code",
   "execution_count": null,
   "metadata": {},
   "outputs": [],
   "source": [
    "zipfiles_names_bucket = get_list_names_zipfiles_bucket(s3_client, BUCKET_NAME)\n",
    "zipfiles_names_bucket"
   ]
  },
  {
   "cell_type": "code",
   "execution_count": null,
   "metadata": {},
   "outputs": [],
   "source": [
    "while len(zipfiles_names_ftp) != len(zipfiles_names_bucket):\n",
    "    for z in zipfiles_names_ftp:\n",
    "        try:\n",
    "            download_zipfile(SITE, FTP_FOLDER, \"./\", zipfiles_names_bucket, z)\n",
    "        except EOFError:\n",
    "            print(\"EOFError, reconnecting...\\n\")\n",
    "            pass\n",
    "        except:\n",
    "            print_error()\n",
    "    zipfiles_names_bucket = get_list_names_zipfiles_bucket(s3_client, BUCKET_NAME)"
   ]
  },
  {
   "cell_type": "code",
   "execution_count": 12,
   "metadata": {},
   "outputs": [
    {
     "data": {
      "text/plain": [
       "['BASE_DE_DADOS_CNES_201804.ZIP', 'BASE_DE_DADOS_CNES_201807.ZIP']"
      ]
     },
     "execution_count": 12,
     "metadata": {},
     "output_type": "execute_result"
    }
   ],
   "source": [
    "local_zipfles_names = [f for f in os.listdir(\"./\") if f.endswith(\".ZIP\")]\n",
    "local_zipfles_names"
   ]
  },
  {
   "cell_type": "code",
   "execution_count": 13,
   "metadata": {},
   "outputs": [],
   "source": [
    "for f in local_zipfles_names:\n",
    "    os.remove(f)"
   ]
  },
  {
   "cell_type": "code",
   "execution_count": null,
   "metadata": {},
   "outputs": [],
   "source": []
  }
 ],
 "metadata": {
  "kernelspec": {
   "display_name": "Python 3",
   "language": "python",
   "name": "python3"
  },
  "language_info": {
   "codemirror_mode": {
    "name": "ipython",
    "version": 3
   },
   "file_extension": ".py",
   "mimetype": "text/x-python",
   "name": "python",
   "nbconvert_exporter": "python",
   "pygments_lexer": "ipython3",
   "version": "3.9.0"
  },
  "orig_nbformat": 4
 },
 "nbformat": 4,
 "nbformat_minor": 2
}
