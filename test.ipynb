{
 "cells": [
  {
   "cell_type": "code",
   "execution_count": 1,
   "metadata": {},
   "outputs": [],
   "source": [
    "from helper_functions import *\n",
    "import os\n",
    "\n",
    "BUCKET_NAME = \"laos-datasus\"\n",
    "SITE = \"ftp.datasus.gov.br\"\n",
    "\n",
    "# FTP_FOLDER_CNES = \"cnes\"\n",
    "# BASE_FILES_NAME_CNES = \"BASE_DE_DADOS_CNES\"\n",
    "# BUCKET_FOLDER_ZIPFILES = \"cnes/zipfiles/\"\n",
    "\n",
    "# FTP_FOLDER_SIASUS = \"/dissemin/publicos/SIASUS/200801_/Dados\"\n",
    "# BUCKET_FOLDER_SIASUS_DBCFILES = \"siasus/dbcfiles/\"\n",
    "# BASE_FILES_NAME_SIASUS = \"PAPB\"\n",
    "\n",
    "FTP_FOLDER_SIHSUS = \"/dissemin/publicos/SIHSUS/200801_/Dados\"\n",
    "BUCKET_FOLDER_SIHSUS_DBCFILES = \"sihsus/dbcfiles/\"\n",
    "BASE_FILES_NAME_SIHSUS = \"RDPB\"\n",
    "\n",
    "s3_client = boto3.client(\"s3\")\n",
    "s3_resource = boto3.resource(\"s3\")"
   ]
  },
  {
   "cell_type": "code",
   "execution_count": null,
   "metadata": {},
   "outputs": [],
   "source": [
    "# GET SIHSUS DBCFILES NAMES FROM FTP\n",
    "sihsus_dbcfiles_names_ftp = get_files_names_ftp(SITE, FTP_FOLDER_SIHSUS, BASE_FILES_NAME_SIHSUS)\n",
    "sihsus_dbcfiles_names_ftp"
   ]
  },
  {
   "cell_type": "code",
   "execution_count": 7,
   "metadata": {},
   "outputs": [
    {
     "name": "stdout",
     "output_type": "stream",
     "text": [
      "Getting list of files in S3 Bucket...\n",
      "Folder doesn't exist in Bucket.\n"
     ]
    },
    {
     "data": {
      "text/plain": [
       "[]"
      ]
     },
     "execution_count": 7,
     "metadata": {},
     "output_type": "execute_result"
    }
   ],
   "source": [
    "# GET SIHSUS DBCFILES NAMES FROM S3 BUCKET\n",
    "sihsus_dbcfiles_names_bucket = get_files_names_bucket(s3_client, BUCKET_NAME, BUCKET_FOLDER_SIHSUS_DBCFILES)\n",
    "sihsus_dbcfiles_names_bucket"
   ]
  },
  {
   "cell_type": "code",
   "execution_count": null,
   "metadata": {},
   "outputs": [],
   "source": [
    "if sorted(sihsus_dbcfiles_names_ftp) == sorted(sihsus_dbcfiles_names_bucket):\n",
    "    print(\"All SIHSUS dbcfiles are uploaded into S3 Bucket folder.\")\n",
    "else:\n",
    "    # DOWNLOADING AND UPLOADING SIHSUS DBCFILES\n",
    "    for d in sihsus_dbcfiles_names_ftp:\n",
    "        if d not in sihsus_dbcfiles_names_bucket and int(d[4:6]) > 17:\n",
    "            try:\n",
    "                download_file_from_ftp(SITE, FTP_FOLDER_SIHSUS, d)\n",
    "                upload_file_to_bucket(s3_resource, d, BUCKET_NAME, BUCKET_FOLDER_SIHSUS_DBCFILES)\n",
    "                os.remove(d)\n",
    "            except EOFError: # server constantly is disconnected and give this error\n",
    "                print(\"EOFError, reconnecting...\")\n",
    "                pass\n",
    "            except:\n",
    "                print_error()"
   ]
  }
 ],
 "metadata": {
  "kernelspec": {
   "display_name": "Python 3",
   "language": "python",
   "name": "python3"
  },
  "language_info": {
   "codemirror_mode": {
    "name": "ipython",
    "version": 3
   },
   "file_extension": ".py",
   "mimetype": "text/x-python",
   "name": "python",
   "nbconvert_exporter": "python",
   "pygments_lexer": "ipython3",
   "version": "3.10.10"
  },
  "orig_nbformat": 4
 },
 "nbformat": 4,
 "nbformat_minor": 2
}
