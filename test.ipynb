{
 "cells": [
  {
   "cell_type": "code",
   "execution_count": null,
   "metadata": {},
   "outputs": [],
   "source": [
    "import io\n",
    "import csv\n",
    "import zipfile\n",
    "import traceback\n",
    "import sys\n",
    "import os\n",
    "import boto3"
   ]
  },
  {
   "cell_type": "code",
   "execution_count": null,
   "metadata": {},
   "outputs": [],
   "source": [
    "BUCKET_NAME = \"files-cnes-datasus\"\n",
    "BASE_FILES_NAME = \"BASE_DE_DADOS_CNES\"\n",
    "SITE = \"ftp.datasus.gov.br\"\n",
    "FTP_FOLDER = \"cnes\"\n",
    "\n",
    "s3_client = boto3.client(\"s3\")\n",
    "s3_resource = boto3.resource(\"s3\")"
   ]
  },
  {
   "cell_type": "code",
   "execution_count": null,
   "metadata": {},
   "outputs": [],
   "source": [
    "def print_error() -> None:\n",
    "    \"\"\"Print the error message and exit script.\"\"\"\n",
    "    traceback.print_exc()\n",
    "    print(\"Closing...\")\n",
    "    sys.exit()\n",
    "\n",
    "def get_list_names_zipfiles_bucket(s3_client: boto3.client, bucket: str) -> list[str]:\n",
    "    \"\"\"Get list of all zipfiles in folder 'zipfiles/'\"\"\"\n",
    "    try:\n",
    "        print(\"Getting list of zipfiles in S3 Bucket...\")\n",
    "        response = s3_client.list_objects(Bucket=bucket)[\"Contents\"]\n",
    "        content_zipfiles = [k[\"Key\"] for k in response if k[\"Key\"].startswith(\"zipfiles/\")]\n",
    "        if len(content_zipfiles) == 1:\n",
    "            print(\"No zip files in Bucket folder 'zipfiles/'.\\n\")\n",
    "            return []\n",
    "        else:\n",
    "            print(\"Names collected.\\n\")\n",
    "            return [item[len(\"zipfiles/\"):] for item in content_zipfiles][1:]\n",
    "    except:\n",
    "        print(\"Error getting names of zipfiles in Bucket.\")\n",
    "        print_error()\n",
    "\n",
    "def download_zipfile_bucket(s3_client: boto3.client, bucket: str, file: str) -> None:\n",
    "    \"\"\"Download zipfile from S3 Bucket in the same folder that the script is located.\"\"\"\n",
    "    print(f\"\\nDownloading {file}...\")\n",
    "    s3_client.download_file(\n",
    "        Bucket=bucket,\n",
    "        Key=\"zipfiles/\" + file,\n",
    "        Filename=\"./\" + file\n",
    "    )\n",
    "    print(f\"{file} downloaded.\\n\")\n",
    "\n",
    "def unzip_and_organize(s3_client: boto3.client, bucket: str, zip: str, folder: str) -> None:\n",
    "    \"\"\"\"\"\"\n",
    "    print(f\"\\nUnziping {zip}...\")\n",
    "    with zipfile.ZipFile(zip, \"r\") as zf: # openning zipfile\n",
    "        print(f\"{zip} unziped.\\n\")\n",
    "        for f in zf.namelist():\n",
    "            print(f\"Writing {f}...\")\n",
    "            with zf.open(f, \"r\") as table: # opening target file\n",
    "                r = csv.reader(io.TextIOWrapper(table, \"utf-8\"), delimiter=\";\") # decoding and reading file\n",
    "                rows = [row for row in r]\n",
    "\n",
    "                buff = io.StringIO()\n",
    "                csv.writer(buff).writerows(rows)\n",
    "\n",
    "                s3_client.put_object(Bucket=bucket, Key=\"raw_tables/\" + folder + f, Body=buff.getvalue().encode(\"utf-8\", \"replace\"))\n",
    "                print(f\"{f} written.\")\n",
    "\n",
    "def get_list_names_raw_tables_bucket(s3_client: boto3.client, bucket: str, folder: str) -> list[str]:\n",
    "    \"\"\"Get list of all content in 'raw_tables/' plus the folder from the input\"\"\"\n",
    "    response = s3_client.list_objects(Bucket=bucket)[\"Contents\"]\n",
    "    return [k[\"Key\"] for k in response if k[\"Key\"].startswith(\"raw_tables/\" + folder)]"
   ]
  },
  {
   "cell_type": "code",
   "execution_count": null,
   "metadata": {},
   "outputs": [],
   "source": [
    "names_zipfiles_bucket = get_list_names_zipfiles_bucket(s3_client, BUCKET_NAME)"
   ]
  },
  {
   "cell_type": "code",
   "execution_count": null,
   "metadata": {},
   "outputs": [],
   "source": [
    "for z in names_zipfiles_bucket[:2]:\n",
    "    year_month = z.split(\".\")[0][-6:]\n",
    "    folder = year_month[:4] + \"/\" + year_month[-2:] + \"/\"\n",
    "    if len(get_list_names_raw_tables_bucket(s3_client, BUCKET_NAME, folder)) == 0:\n",
    "        download_zipfile_bucket(s3_client, BUCKET_NAME, z)\n",
    "        unzip_and_organize(s3_client, BUCKET_NAME, z, folder)\n",
    "        os.remove(z)"
   ]
  },
  {
   "cell_type": "code",
   "execution_count": null,
   "metadata": {},
   "outputs": [],
   "source": []
  }
 ],
 "metadata": {
  "kernelspec": {
   "display_name": "Python 3",
   "language": "python",
   "name": "python3"
  },
  "language_info": {
   "codemirror_mode": {
    "name": "ipython",
    "version": 3
   },
   "file_extension": ".py",
   "mimetype": "text/x-python",
   "name": "python",
   "nbconvert_exporter": "python",
   "pygments_lexer": "ipython3",
   "version": "3.10.10"
  },
  "orig_nbformat": 4
 },
 "nbformat": 4,
 "nbformat_minor": 2
}
